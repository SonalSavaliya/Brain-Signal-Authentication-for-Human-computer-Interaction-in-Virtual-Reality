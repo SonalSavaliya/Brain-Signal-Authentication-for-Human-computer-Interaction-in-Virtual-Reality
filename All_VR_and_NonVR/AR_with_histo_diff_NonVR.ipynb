{
 "cells": [
  {
   "cell_type": "markdown",
   "metadata": {},
   "source": [
    "## Feature Extraction using Autoregressive and Statistical Histogram with difference of a DataFrame \n",
    " "
   ]
  },
  {
   "cell_type": "code",
   "execution_count": 19,
   "metadata": {},
   "outputs": [
    {
     "data": {
      "text/plain": [
       "<mne.utils.use_log_level at 0x1c16d893320>"
      ]
     },
     "execution_count": 19,
     "metadata": {},
     "output_type": "execute_result"
    }
   ],
   "source": [
    "import pandas as pd\n",
    "import matplotlib.pyplot as plt\n",
    "import numpy as np\n",
    "import seaborn as sns\n",
    "%matplotlib inline\n",
    "import mne\n",
    "mne.utils.use_log_level('error')"
   ]
  },
  {
   "cell_type": "code",
   "execution_count": 20,
   "metadata": {},
   "outputs": [],
   "source": [
    "import glob\n",
    "\n",
    "path = r'Preprocessed_Data'\n",
    "all_files = glob.glob(path + \"/*_Non-VR.fif\")\n",
    "\n",
    "cols = []\n",
    "sub = 1\n",
    "mean, median, std, mode,mean_std,skew,kurto = [],[],[],[],[],[],[]\n",
    "\n",
    "for filename in all_files:\n",
    "    raw =  mne.io.read_raw_fif(filename, preload=True,verbose='error');\n",
    "    if 'CH 4' in raw.info['ch_names']:\n",
    "        raw.pick_channels([\"CH 4\"])\n",
    "      \n",
    "        picks = mne.pick_types(raw.info, eeg=True, exclude=[])\n",
    "        \n",
    "        interval = 5\n",
    "        start = 60\n",
    "        stop = start + interval\n",
    "        while(stop <= 120):\n",
    "            start1, stop1 = raw.time_as_index([start, stop])\n",
    "            data, times = raw[picks[:], start1:stop1]\n",
    "            segment = pd.Series(data[0]).shift(17).dropna()\n",
    "            \n",
    "            df_mean = segment.mean()\n",
    "            mean.append(df_mean)\n",
    "            \n",
    "            df_median = segment.median()\n",
    "            median.append(df_median)\n",
    "                       \n",
    "            df_std = segment.std()\n",
    "            std.append(df_std)\n",
    "            \n",
    "            df_skewness = segment.skew()\n",
    "            skew.append(df_skewness)\n",
    "\n",
    "            df_kurt = segment.kurt()\n",
    "            kurto.append(df_kurt)\n",
    "            \n",
    "            df_mean_std = df_mean/df_std\n",
    "            mean_std.append(df_mean_std)            \n",
    "                       \n",
    "            start += interval\n",
    "            stop += interval\n",
    "\n",
    "            cols.append(sub)\n",
    "    sub += 1\n",
    "df1 = pd.DataFrame(data={'Mean':mean, 'Median':median, 'StdDev':std,'Mean/StdDev':mean_std,'Skew':skew,'Kurt':kurto})    \n",
    "\n",
    "df1.insert(loc=0, column='Subject', value=cols)"
   ]
  },
  {
   "cell_type": "code",
   "execution_count": 21,
   "metadata": {
    "scrolled": true
   },
   "outputs": [
    {
     "data": {
      "text/html": [
       "<div>\n",
       "<style scoped>\n",
       "    .dataframe tbody tr th:only-of-type {\n",
       "        vertical-align: middle;\n",
       "    }\n",
       "\n",
       "    .dataframe tbody tr th {\n",
       "        vertical-align: top;\n",
       "    }\n",
       "\n",
       "    .dataframe thead th {\n",
       "        text-align: right;\n",
       "    }\n",
       "</style>\n",
       "<table border=\"1\" class=\"dataframe\">\n",
       "  <thead>\n",
       "    <tr style=\"text-align: right;\">\n",
       "      <th></th>\n",
       "      <th>Subject</th>\n",
       "      <th>Mean</th>\n",
       "      <th>Median</th>\n",
       "      <th>StdDev</th>\n",
       "      <th>Mean/StdDev</th>\n",
       "      <th>Skew</th>\n",
       "      <th>Kurt</th>\n",
       "    </tr>\n",
       "  </thead>\n",
       "  <tbody>\n",
       "    <tr>\n",
       "      <th>0</th>\n",
       "      <td>1</td>\n",
       "      <td>-0.064470</td>\n",
       "      <td>-0.424835</td>\n",
       "      <td>8.052628</td>\n",
       "      <td>-0.008006</td>\n",
       "      <td>0.121501</td>\n",
       "      <td>0.428748</td>\n",
       "    </tr>\n",
       "    <tr>\n",
       "      <th>1</th>\n",
       "      <td>1</td>\n",
       "      <td>-0.075851</td>\n",
       "      <td>-0.145451</td>\n",
       "      <td>7.282104</td>\n",
       "      <td>-0.010416</td>\n",
       "      <td>-0.367209</td>\n",
       "      <td>2.917546</td>\n",
       "    </tr>\n",
       "    <tr>\n",
       "      <th>2</th>\n",
       "      <td>1</td>\n",
       "      <td>0.156003</td>\n",
       "      <td>0.017355</td>\n",
       "      <td>7.060631</td>\n",
       "      <td>0.022095</td>\n",
       "      <td>0.115090</td>\n",
       "      <td>0.236680</td>\n",
       "    </tr>\n",
       "    <tr>\n",
       "      <th>3</th>\n",
       "      <td>1</td>\n",
       "      <td>0.073900</td>\n",
       "      <td>0.251501</td>\n",
       "      <td>7.021932</td>\n",
       "      <td>0.010524</td>\n",
       "      <td>-0.011790</td>\n",
       "      <td>0.184013</td>\n",
       "    </tr>\n",
       "    <tr>\n",
       "      <th>4</th>\n",
       "      <td>1</td>\n",
       "      <td>-0.062443</td>\n",
       "      <td>-0.027827</td>\n",
       "      <td>6.402234</td>\n",
       "      <td>-0.009753</td>\n",
       "      <td>-0.264659</td>\n",
       "      <td>0.763700</td>\n",
       "    </tr>\n",
       "  </tbody>\n",
       "</table>\n",
       "</div>"
      ],
      "text/plain": [
       "   Subject      Mean    Median    StdDev  Mean/StdDev      Skew      Kurt\n",
       "0        1 -0.064470 -0.424835  8.052628    -0.008006  0.121501  0.428748\n",
       "1        1 -0.075851 -0.145451  7.282104    -0.010416 -0.367209  2.917546\n",
       "2        1  0.156003  0.017355  7.060631     0.022095  0.115090  0.236680\n",
       "3        1  0.073900  0.251501  7.021932     0.010524 -0.011790  0.184013\n",
       "4        1 -0.062443 -0.027827  6.402234    -0.009753 -0.264659  0.763700"
      ]
     },
     "execution_count": 21,
     "metadata": {},
     "output_type": "execute_result"
    }
   ],
   "source": [
    "df1.head() #Features after AR and Statistical histogram"
   ]
  },
  {
   "cell_type": "code",
   "execution_count": 22,
   "metadata": {},
   "outputs": [
    {
     "data": {
      "text/html": [
       "<div>\n",
       "<style scoped>\n",
       "    .dataframe tbody tr th:only-of-type {\n",
       "        vertical-align: middle;\n",
       "    }\n",
       "\n",
       "    .dataframe tbody tr th {\n",
       "        vertical-align: top;\n",
       "    }\n",
       "\n",
       "    .dataframe thead th {\n",
       "        text-align: right;\n",
       "    }\n",
       "</style>\n",
       "<table border=\"1\" class=\"dataframe\">\n",
       "  <thead>\n",
       "    <tr style=\"text-align: right;\">\n",
       "      <th></th>\n",
       "      <th>Subject</th>\n",
       "      <th>Mean</th>\n",
       "      <th>Median</th>\n",
       "      <th>StdDev</th>\n",
       "      <th>Mean/StdDev</th>\n",
       "      <th>Skew</th>\n",
       "      <th>Kurt</th>\n",
       "    </tr>\n",
       "  </thead>\n",
       "  <tbody>\n",
       "    <tr>\n",
       "      <th>1</th>\n",
       "      <td>0.0</td>\n",
       "      <td>-0.011380</td>\n",
       "      <td>0.279385</td>\n",
       "      <td>-0.770524</td>\n",
       "      <td>-0.002410</td>\n",
       "      <td>-0.488711</td>\n",
       "      <td>2.488798</td>\n",
       "    </tr>\n",
       "    <tr>\n",
       "      <th>2</th>\n",
       "      <td>0.0</td>\n",
       "      <td>0.231854</td>\n",
       "      <td>0.162806</td>\n",
       "      <td>-0.221472</td>\n",
       "      <td>0.032511</td>\n",
       "      <td>0.482299</td>\n",
       "      <td>-2.680867</td>\n",
       "    </tr>\n",
       "    <tr>\n",
       "      <th>3</th>\n",
       "      <td>0.0</td>\n",
       "      <td>-0.082103</td>\n",
       "      <td>0.234146</td>\n",
       "      <td>-0.038699</td>\n",
       "      <td>-0.011571</td>\n",
       "      <td>-0.126880</td>\n",
       "      <td>-0.052667</td>\n",
       "    </tr>\n",
       "    <tr>\n",
       "      <th>4</th>\n",
       "      <td>0.0</td>\n",
       "      <td>-0.136343</td>\n",
       "      <td>-0.279328</td>\n",
       "      <td>-0.619698</td>\n",
       "      <td>-0.020277</td>\n",
       "      <td>-0.252870</td>\n",
       "      <td>0.579687</td>\n",
       "    </tr>\n",
       "    <tr>\n",
       "      <th>5</th>\n",
       "      <td>0.0</td>\n",
       "      <td>0.048089</td>\n",
       "      <td>-0.121548</td>\n",
       "      <td>1.015950</td>\n",
       "      <td>0.007818</td>\n",
       "      <td>0.275939</td>\n",
       "      <td>-0.404080</td>\n",
       "    </tr>\n",
       "  </tbody>\n",
       "</table>\n",
       "</div>"
      ],
      "text/plain": [
       "   Subject      Mean    Median    StdDev  Mean/StdDev      Skew      Kurt\n",
       "1      0.0 -0.011380  0.279385 -0.770524    -0.002410 -0.488711  2.488798\n",
       "2      0.0  0.231854  0.162806 -0.221472     0.032511  0.482299 -2.680867\n",
       "3      0.0 -0.082103  0.234146 -0.038699    -0.011571 -0.126880 -0.052667\n",
       "4      0.0 -0.136343 -0.279328 -0.619698    -0.020277 -0.252870  0.579687\n",
       "5      0.0  0.048089 -0.121548  1.015950     0.007818  0.275939 -0.404080"
      ]
     },
     "execution_count": 22,
     "metadata": {},
     "output_type": "execute_result"
    }
   ],
   "source": [
    "# Features after 1st difference\n",
    "df2 = df1.diff().dropna()\n",
    "df2.head()"
   ]
  },
  {
   "cell_type": "code",
   "execution_count": 23,
   "metadata": {},
   "outputs": [
    {
     "data": {
      "text/html": [
       "<div>\n",
       "<style scoped>\n",
       "    .dataframe tbody tr th:only-of-type {\n",
       "        vertical-align: middle;\n",
       "    }\n",
       "\n",
       "    .dataframe tbody tr th {\n",
       "        vertical-align: top;\n",
       "    }\n",
       "\n",
       "    .dataframe thead th {\n",
       "        text-align: right;\n",
       "    }\n",
       "</style>\n",
       "<table border=\"1\" class=\"dataframe\">\n",
       "  <thead>\n",
       "    <tr style=\"text-align: right;\">\n",
       "      <th></th>\n",
       "      <th>Subject</th>\n",
       "      <th>Mean</th>\n",
       "      <th>Median</th>\n",
       "      <th>StdDev</th>\n",
       "      <th>Mean/StdDev</th>\n",
       "      <th>Skew</th>\n",
       "      <th>Kurt</th>\n",
       "    </tr>\n",
       "  </thead>\n",
       "  <tbody>\n",
       "    <tr>\n",
       "      <th>2</th>\n",
       "      <td>0.0</td>\n",
       "      <td>0.243234</td>\n",
       "      <td>-0.116579</td>\n",
       "      <td>0.549052</td>\n",
       "      <td>0.034921</td>\n",
       "      <td>0.971010</td>\n",
       "      <td>-5.169665</td>\n",
       "    </tr>\n",
       "    <tr>\n",
       "      <th>3</th>\n",
       "      <td>0.0</td>\n",
       "      <td>-0.313956</td>\n",
       "      <td>0.071340</td>\n",
       "      <td>0.182773</td>\n",
       "      <td>-0.044081</td>\n",
       "      <td>-0.609179</td>\n",
       "      <td>2.628200</td>\n",
       "    </tr>\n",
       "    <tr>\n",
       "      <th>4</th>\n",
       "      <td>0.0</td>\n",
       "      <td>-0.054240</td>\n",
       "      <td>-0.513474</td>\n",
       "      <td>-0.580999</td>\n",
       "      <td>-0.008707</td>\n",
       "      <td>-0.125990</td>\n",
       "      <td>0.632353</td>\n",
       "    </tr>\n",
       "    <tr>\n",
       "      <th>5</th>\n",
       "      <td>0.0</td>\n",
       "      <td>0.184432</td>\n",
       "      <td>0.157781</td>\n",
       "      <td>1.635648</td>\n",
       "      <td>0.028096</td>\n",
       "      <td>0.528809</td>\n",
       "      <td>-0.983767</td>\n",
       "    </tr>\n",
       "    <tr>\n",
       "      <th>6</th>\n",
       "      <td>0.0</td>\n",
       "      <td>0.047436</td>\n",
       "      <td>0.307619</td>\n",
       "      <td>-0.858840</td>\n",
       "      <td>0.004832</td>\n",
       "      <td>-0.374526</td>\n",
       "      <td>0.114555</td>\n",
       "    </tr>\n",
       "  </tbody>\n",
       "</table>\n",
       "</div>"
      ],
      "text/plain": [
       "   Subject      Mean    Median    StdDev  Mean/StdDev      Skew      Kurt\n",
       "2      0.0  0.243234 -0.116579  0.549052     0.034921  0.971010 -5.169665\n",
       "3      0.0 -0.313956  0.071340  0.182773    -0.044081 -0.609179  2.628200\n",
       "4      0.0 -0.054240 -0.513474 -0.580999    -0.008707 -0.125990  0.632353\n",
       "5      0.0  0.184432  0.157781  1.635648     0.028096  0.528809 -0.983767\n",
       "6      0.0  0.047436  0.307619 -0.858840     0.004832 -0.374526  0.114555"
      ]
     },
     "execution_count": 23,
     "metadata": {},
     "output_type": "execute_result"
    }
   ],
   "source": [
    "# Features after 2st difference\n",
    "df3 = df2.diff().dropna()\n",
    "df3.head()"
   ]
  },
  {
   "cell_type": "code",
   "execution_count": 24,
   "metadata": {},
   "outputs": [],
   "source": [
    "df1.reset_index(drop=True, inplace=True)\n",
    "df2.reset_index(drop=True, inplace=True)\n",
    "df3.reset_index(drop=True, inplace=True)"
   ]
  },
  {
   "cell_type": "code",
   "execution_count": 25,
   "metadata": {},
   "outputs": [],
   "source": [
    "# Cobnining all 3 different features\n",
    "df = pd.concat([df1, df2, df3], axis=1)"
   ]
  },
  {
   "cell_type": "code",
   "execution_count": 26,
   "metadata": {},
   "outputs": [
    {
     "data": {
      "text/html": [
       "<div>\n",
       "<style scoped>\n",
       "    .dataframe tbody tr th:only-of-type {\n",
       "        vertical-align: middle;\n",
       "    }\n",
       "\n",
       "    .dataframe tbody tr th {\n",
       "        vertical-align: top;\n",
       "    }\n",
       "\n",
       "    .dataframe thead th {\n",
       "        text-align: right;\n",
       "    }\n",
       "</style>\n",
       "<table border=\"1\" class=\"dataframe\">\n",
       "  <thead>\n",
       "    <tr style=\"text-align: right;\">\n",
       "      <th></th>\n",
       "      <th>Subject</th>\n",
       "      <th>Mean</th>\n",
       "      <th>Median</th>\n",
       "      <th>StdDev</th>\n",
       "      <th>Mean/StdDev</th>\n",
       "      <th>Skew</th>\n",
       "      <th>Kurt</th>\n",
       "      <th>Mean1</th>\n",
       "      <th>Median1</th>\n",
       "      <th>StdDev1</th>\n",
       "      <th>Mean/StdDev1</th>\n",
       "      <th>Skew1</th>\n",
       "      <th>Kurt1</th>\n",
       "      <th>Mean2</th>\n",
       "      <th>Median2</th>\n",
       "      <th>StdDev2</th>\n",
       "      <th>Mean/StdDev2</th>\n",
       "      <th>Skew2</th>\n",
       "      <th>Kurt2</th>\n",
       "    </tr>\n",
       "  </thead>\n",
       "  <tbody>\n",
       "    <tr>\n",
       "      <th>0</th>\n",
       "      <td>1</td>\n",
       "      <td>-0.064470</td>\n",
       "      <td>-0.424835</td>\n",
       "      <td>8.052628</td>\n",
       "      <td>-0.008006</td>\n",
       "      <td>0.121501</td>\n",
       "      <td>0.428748</td>\n",
       "      <td>-0.011380</td>\n",
       "      <td>0.279385</td>\n",
       "      <td>-0.770524</td>\n",
       "      <td>-0.002410</td>\n",
       "      <td>-0.488711</td>\n",
       "      <td>2.488798</td>\n",
       "      <td>0.243234</td>\n",
       "      <td>-0.116579</td>\n",
       "      <td>0.549052</td>\n",
       "      <td>0.034921</td>\n",
       "      <td>0.971010</td>\n",
       "      <td>-5.169665</td>\n",
       "    </tr>\n",
       "    <tr>\n",
       "      <th>1</th>\n",
       "      <td>1</td>\n",
       "      <td>-0.075851</td>\n",
       "      <td>-0.145451</td>\n",
       "      <td>7.282104</td>\n",
       "      <td>-0.010416</td>\n",
       "      <td>-0.367209</td>\n",
       "      <td>2.917546</td>\n",
       "      <td>0.231854</td>\n",
       "      <td>0.162806</td>\n",
       "      <td>-0.221472</td>\n",
       "      <td>0.032511</td>\n",
       "      <td>0.482299</td>\n",
       "      <td>-2.680867</td>\n",
       "      <td>-0.313956</td>\n",
       "      <td>0.071340</td>\n",
       "      <td>0.182773</td>\n",
       "      <td>-0.044081</td>\n",
       "      <td>-0.609179</td>\n",
       "      <td>2.628200</td>\n",
       "    </tr>\n",
       "    <tr>\n",
       "      <th>2</th>\n",
       "      <td>1</td>\n",
       "      <td>0.156003</td>\n",
       "      <td>0.017355</td>\n",
       "      <td>7.060631</td>\n",
       "      <td>0.022095</td>\n",
       "      <td>0.115090</td>\n",
       "      <td>0.236680</td>\n",
       "      <td>-0.082103</td>\n",
       "      <td>0.234146</td>\n",
       "      <td>-0.038699</td>\n",
       "      <td>-0.011571</td>\n",
       "      <td>-0.126880</td>\n",
       "      <td>-0.052667</td>\n",
       "      <td>-0.054240</td>\n",
       "      <td>-0.513474</td>\n",
       "      <td>-0.580999</td>\n",
       "      <td>-0.008707</td>\n",
       "      <td>-0.125990</td>\n",
       "      <td>0.632353</td>\n",
       "    </tr>\n",
       "    <tr>\n",
       "      <th>3</th>\n",
       "      <td>1</td>\n",
       "      <td>0.073900</td>\n",
       "      <td>0.251501</td>\n",
       "      <td>7.021932</td>\n",
       "      <td>0.010524</td>\n",
       "      <td>-0.011790</td>\n",
       "      <td>0.184013</td>\n",
       "      <td>-0.136343</td>\n",
       "      <td>-0.279328</td>\n",
       "      <td>-0.619698</td>\n",
       "      <td>-0.020277</td>\n",
       "      <td>-0.252870</td>\n",
       "      <td>0.579687</td>\n",
       "      <td>0.184432</td>\n",
       "      <td>0.157781</td>\n",
       "      <td>1.635648</td>\n",
       "      <td>0.028096</td>\n",
       "      <td>0.528809</td>\n",
       "      <td>-0.983767</td>\n",
       "    </tr>\n",
       "    <tr>\n",
       "      <th>4</th>\n",
       "      <td>1</td>\n",
       "      <td>-0.062443</td>\n",
       "      <td>-0.027827</td>\n",
       "      <td>6.402234</td>\n",
       "      <td>-0.009753</td>\n",
       "      <td>-0.264659</td>\n",
       "      <td>0.763700</td>\n",
       "      <td>0.048089</td>\n",
       "      <td>-0.121548</td>\n",
       "      <td>1.015950</td>\n",
       "      <td>0.007818</td>\n",
       "      <td>0.275939</td>\n",
       "      <td>-0.404080</td>\n",
       "      <td>0.047436</td>\n",
       "      <td>0.307619</td>\n",
       "      <td>-0.858840</td>\n",
       "      <td>0.004832</td>\n",
       "      <td>-0.374526</td>\n",
       "      <td>0.114555</td>\n",
       "    </tr>\n",
       "  </tbody>\n",
       "</table>\n",
       "</div>"
      ],
      "text/plain": [
       "   Subject      Mean    Median    StdDev  Mean/StdDev      Skew      Kurt  \\\n",
       "0        1 -0.064470 -0.424835  8.052628    -0.008006  0.121501  0.428748   \n",
       "1        1 -0.075851 -0.145451  7.282104    -0.010416 -0.367209  2.917546   \n",
       "2        1  0.156003  0.017355  7.060631     0.022095  0.115090  0.236680   \n",
       "3        1  0.073900  0.251501  7.021932     0.010524 -0.011790  0.184013   \n",
       "4        1 -0.062443 -0.027827  6.402234    -0.009753 -0.264659  0.763700   \n",
       "\n",
       "      Mean1   Median1   StdDev1  Mean/StdDev1     Skew1     Kurt1     Mean2  \\\n",
       "0 -0.011380  0.279385 -0.770524     -0.002410 -0.488711  2.488798  0.243234   \n",
       "1  0.231854  0.162806 -0.221472      0.032511  0.482299 -2.680867 -0.313956   \n",
       "2 -0.082103  0.234146 -0.038699     -0.011571 -0.126880 -0.052667 -0.054240   \n",
       "3 -0.136343 -0.279328 -0.619698     -0.020277 -0.252870  0.579687  0.184432   \n",
       "4  0.048089 -0.121548  1.015950      0.007818  0.275939 -0.404080  0.047436   \n",
       "\n",
       "    Median2   StdDev2  Mean/StdDev2     Skew2     Kurt2  \n",
       "0 -0.116579  0.549052      0.034921  0.971010 -5.169665  \n",
       "1  0.071340  0.182773     -0.044081 -0.609179  2.628200  \n",
       "2 -0.513474 -0.580999     -0.008707 -0.125990  0.632353  \n",
       "3  0.157781  1.635648      0.028096  0.528809 -0.983767  \n",
       "4  0.307619 -0.858840      0.004832 -0.374526  0.114555  "
      ]
     },
     "execution_count": 26,
     "metadata": {},
     "output_type": "execute_result"
    }
   ],
   "source": [
    "df.dropna(inplace=True)\n",
    "df.columns = df.columns = ['Subject', 'Mean', 'Median', 'StdDev', 'Mean/StdDev', 'Skew', 'Kurt',\n",
    "       'Subject1', 'Mean1', 'Median1', 'StdDev1', 'Mean/StdDev1', 'Skew1', 'Kurt1',\n",
    "       'Subject2', 'Mean2', 'Median2', 'StdDev2', 'Mean/StdDev2', 'Skew2', 'Kurt2']\n",
    "df.drop(['Subject1','Subject2'], axis=1, inplace=True)\n",
    "df.head()"
   ]
  },
  {
   "cell_type": "code",
   "execution_count": 27,
   "metadata": {},
   "outputs": [
    {
     "data": {
      "text/plain": [
       "Index(['Subject', 'Mean', 'Median', 'StdDev', 'Mean/StdDev', 'Skew', 'Kurt',\n",
       "       'Mean1', 'Median1', 'StdDev1', 'Mean/StdDev1', 'Skew1', 'Kurt1',\n",
       "       'Mean2', 'Median2', 'StdDev2', 'Mean/StdDev2', 'Skew2', 'Kurt2'],\n",
       "      dtype='object')"
      ]
     },
     "execution_count": 27,
     "metadata": {},
     "output_type": "execute_result"
    }
   ],
   "source": [
    "df.columns"
   ]
  },
  {
   "cell_type": "code",
   "execution_count": 28,
   "metadata": {},
   "outputs": [],
   "source": [
    "#import seaborn as sns\n",
    "#sns_plot = sns.pairplot(df1.drop('Subject', axis=1))\n",
    "#sns_plot.savefig('features_plot.png')"
   ]
  },
  {
   "cell_type": "code",
   "execution_count": 29,
   "metadata": {},
   "outputs": [],
   "source": [
    "feature_list = ['Mean', 'Median', 'StdDev','Mean/StdDev','Skew','Kurt',\n",
    "       'Mean1', 'Median1', 'StdDev1', 'Mean/StdDev1', 'Skew1', 'Kurt1',\n",
    "       'Mean2', 'Median2', 'StdDev2', 'Mean/StdDev2', 'Skew2', 'Kurt2']\n",
    "\n",
    "col = ['Kurt', 'Kurt1', 'Kurt2', 'Mean', 'Mean/StdDev', 'Mean/StdDev1',\n",
    "       'Mean/StdDev2', 'Mean1', 'Mean2', 'Median', 'Median1', 'Median2',\n",
    "       'Skew', 'Skew1', 'Skew2', 'StdDev', 'StdDev1', 'StdDev2', 'Subject',\n",
    "       'Type']"
   ]
  },
  {
   "cell_type": "code",
   "execution_count": 30,
   "metadata": {},
   "outputs": [],
   "source": [
    "import itertools"
   ]
  },
  {
   "cell_type": "code",
   "execution_count": 31,
   "metadata": {},
   "outputs": [],
   "source": [
    "def distanceCalculation(df):\n",
    "    subs = df['Subject'].unique()    # All subjects\n",
    "    all_subs= list(itertools.combinations(subs, 2)) # All possible combination for all subjects\n",
    "\n",
    "    distance_col = ['Subject',*feature_list, 'Type']\n",
    "    intra_data = pd.DataFrame(columns = distance_col)\n",
    "\n",
    "    #Intra Distance Computation (Same Person)\n",
    "    for sub in subs:\n",
    "        rows = df.loc[df['Subject'] == sub]\n",
    "        each_comb = list(itertools.combinations(rows.index, 2))\n",
    "        for i in range(len(each_comb)):\n",
    "            comb = each_comb[i]\n",
    "            fdr = absDistance(df, feature_list, comb[0], comb[1])\n",
    "            intra_data = intra_data.append(pd.Series([sub,*fdr,0], index=distance_col), ignore_index=True)\n",
    "    \n",
    "    inter_data = pd.DataFrame(columns = distance_col)\n",
    "    # Inter Distance Computation (Different Person) \n",
    "    all_rows=len(df)\n",
    "    for sub_pair in all_subs: # Pairs of subjets\n",
    "        sp1 = df.loc[df['Subject'] == sub_pair[0]].index\n",
    "        sp2 = df.loc[df['Subject'] == sub_pair[1]].index\n",
    "        for i in range(len(sp1)):\n",
    "            for j in range(len(sp2)):\n",
    "                fdr = absDistance(df, feature_list, sp1[i], sp2[j])\n",
    "                inter_data = inter_data.append(pd.Series([sub_pair, *fdr, 1], index=distance_col), ignore_index=True)    \n",
    "    return intra_data, inter_data\n",
    "\n",
    "def absDistance(df, features, s1, s2):\n",
    "    r=0\n",
    "    fdr = [None]*len(features)\n",
    "    for feature in features:\n",
    "        f1 = df.iloc[s1][feature] \n",
    "        f2 = df.iloc[s2][feature] \n",
    "        Inter_dis = np.absolute(f1-f2) # absolute difference\n",
    "        fdr[r] = Inter_dis\n",
    "        r+=1\n",
    "    return fdr"
   ]
  },
  {
   "cell_type": "code",
   "execution_count": 32,
   "metadata": {},
   "outputs": [],
   "source": [
    "intra1, inter1 = distanceCalculation(df)"
   ]
  },
  {
   "cell_type": "code",
   "execution_count": 33,
   "metadata": {},
   "outputs": [
    {
     "name": "stdout",
     "output_type": "stream",
     "text": [
      "Intra length: 1893\n",
      "Inter length: 57792\n"
     ]
    }
   ],
   "source": [
    "print(\"Intra length: \"+str(len(intra1)))\n",
    "print(\"Inter length: \"+str(len(inter1)))"
   ]
  },
  {
   "cell_type": "code",
   "execution_count": 36,
   "metadata": {},
   "outputs": [],
   "source": [
    "import random\n",
    "#6\n",
    "#takes subframe and returns a more managble table for SVM\n",
    "def get_SVM_Table(intra, inter):\n",
    "    svmTable = pd.DataFrame()\n",
    "    rands = random.sample(range(0, len(intra)), 1800)\n",
    "    for rand in rands:\n",
    "        svmTable = svmTable.append(intra.iloc[rand],ignore_index=True)\n",
    "    \n",
    "    rands = random.sample(range(0, len(inter)), 2700)\n",
    "    for rand in rands:\n",
    "        svmTable = svmTable.append(inter.iloc[rand],ignore_index=True)\n",
    "    return svmTable"
   ]
  },
  {
   "cell_type": "code",
   "execution_count": 37,
   "metadata": {},
   "outputs": [],
   "source": [
    "svm1 = get_SVM_Table(intra1,inter1)"
   ]
  },
  {
   "cell_type": "markdown",
   "metadata": {},
   "source": [
    "# SVM"
   ]
  },
  {
   "cell_type": "code",
   "execution_count": 38,
   "metadata": {},
   "outputs": [],
   "source": [
    "from sklearn.model_selection import train_test_split\n",
    "from sklearn.svm import SVC\n",
    "from sklearn.metrics import confusion_matrix, classification_report, accuracy_score"
   ]
  },
  {
   "cell_type": "code",
   "execution_count": 39,
   "metadata": {},
   "outputs": [],
   "source": [
    "\n",
    "def svmTest(svm):\n",
    "    X = svm.drop(['Subject','Type'], axis=1)\n",
    "    y = svm[\"Type\"]\n",
    "    X_train, X_test, y_train, y_test = train_test_split(X, y, test_size=0.3, random_state=101)\n",
    "    \n",
    "    model = SVC(C=1.0, kernel = 'rbf', degree=3, gamma='auto')\n",
    "    model.fit(X_train, y_train)\n",
    "    prediction = model.predict(X_test)\n",
    "    confusionMatrix = confusion_matrix(y_test, prediction)\n",
    "    print(confusionMatrix)\n",
    "    print(classification_report(y_test, prediction))\n",
    "    print(\"Accuracy: \"+str(accuracy_score(y_test, prediction)))\n",
    "    return confusionMatrix, model"
   ]
  },
  {
   "cell_type": "code",
   "execution_count": 40,
   "metadata": {},
   "outputs": [
    {
     "name": "stdout",
     "output_type": "stream",
     "text": [
      "[[352 203]\n",
      " [125 670]]\n",
      "              precision    recall  f1-score   support\n",
      "\n",
      "         0.0       0.74      0.63      0.68       555\n",
      "         1.0       0.77      0.84      0.80       795\n",
      "\n",
      "   micro avg       0.76      0.76      0.76      1350\n",
      "   macro avg       0.75      0.74      0.74      1350\n",
      "weighted avg       0.76      0.76      0.75      1350\n",
      "\n",
      "Accuracy: 0.7570370370370371\n"
     ]
    }
   ],
   "source": [
    "cm, model = svmTest(svm1)"
   ]
  },
  {
   "cell_type": "code",
   "execution_count": 41,
   "metadata": {},
   "outputs": [
    {
     "name": "stdout",
     "output_type": "stream",
     "text": [
      "False Acceptance: 0.15037037037037038\n",
      "False Rejection: 0.09259259259259259\n",
      "0.7570370370370371\n"
     ]
    }
   ],
   "source": [
    "TN = cm[0][0]\n",
    "FN = cm[1][0]\n",
    "TP = cm[1][1]\n",
    "FP = cm[0][1]\n",
    "\n",
    "sums = TN+TP+FN+FP\n",
    "\n",
    "acc = (TN+TP)/sums\n",
    "\n",
    "print('False Acceptance: '+str(FP/sums))\n",
    "print('False Rejection: '+str(FN/sums))\n",
    "print(acc)"
   ]
  },
  {
   "cell_type": "code",
   "execution_count": 42,
   "metadata": {},
   "outputs": [],
   "source": [
    "def classify(test):\n",
    "    if(model.predict([test]))==0:\n",
    "        return True\n",
    "    else:\n",
    "        return False"
   ]
  },
  {
   "cell_type": "code",
   "execution_count": null,
   "metadata": {},
   "outputs": [],
   "source": []
  },
  {
   "cell_type": "markdown",
   "metadata": {},
   "source": [
    "##### Precision Score\n",
    "TP – True Positives\n",
    "FP – False Positives\n",
    "\n",
    "Precision – Accuracy of positive predictions.\n",
    "Precision = TP/(TP + FP)\n",
    "\n",
    "##### Recall Score\n",
    "FN – False Negatives\n",
    "\n",
    "Recall (aka sensitivity or true positive rate): Fraction of positives That were correctly identified.\n",
    "Recall = TP/(TP+FN)\n",
    "\n",
    "\n",
    "##### F1 Score\n",
    "F1 Score (aka F-Score or F-Measure) – A helpful metric for comparing two classifiers. F1 Score takes into account precision and the recall. It is created by finding the the harmonic mean of precision and recall.\n",
    "\n",
    "F1 = 2 x (precision x recall)/(precision + recall)\n"
   ]
  },
  {
   "cell_type": "code",
   "execution_count": null,
   "metadata": {},
   "outputs": [],
   "source": []
  },
  {
   "cell_type": "code",
   "execution_count": 78,
   "metadata": {},
   "outputs": [
    {
     "data": {
      "text/plain": [
       "'\\n    from sklearn.metrics import roc_curve, auc\\n    fpr, tpr, thresholds = roc_curve(y_test, prediction)\\n    roc_auc = auc(fpr, tpr)\\n\\n    plt.figure()\\n    plt.plot(fpr, tpr, color=\\'darkorange\\', lw=1, label=\\'ROC curve (area = %0.2f)\\' % roc_auc)\\n    plt.plot([0, 1], [0, 1], color=\\'navy\\', lw=2, linestyle=\\'--\\')\\n    plt.xlim([0.0, 1.0])\\n    plt.ylim([0.0, 1.05])\\n    plt.xlabel(\\'False Positive Rate\\')\\n    plt.ylabel(\\'True Positive Rate\\')\\n    plt.title(\\'Receiver operating characteristic\\')\\n    plt.legend(loc=\"lower right\")\\n    plt.show()\\n'"
      ]
     },
     "execution_count": 78,
     "metadata": {},
     "output_type": "execute_result"
    }
   ],
   "source": [
    "#from sklearn.metrics import roc_auc_score\n",
    "#fpr, tpr, thresholds = metrics.roc_curve(y_test, prediction, pos_label=2)\n",
    "\n",
    "\n",
    "\"\"\"\n",
    "    from sklearn.metrics import roc_curve, auc\n",
    "    fpr, tpr, thresholds = roc_curve(y_test, prediction)\n",
    "    roc_auc = auc(fpr, tpr)\n",
    "\n",
    "    plt.figure()\n",
    "    plt.plot(fpr, tpr, color='darkorange', lw=1, label='ROC curve (area = %0.2f)' % roc_auc)\n",
    "    plt.plot([0, 1], [0, 1], color='navy', lw=2, linestyle='--')\n",
    "    plt.xlim([0.0, 1.0])\n",
    "    plt.ylim([0.0, 1.05])\n",
    "    plt.xlabel('False Positive Rate')\n",
    "    plt.ylabel('True Positive Rate')\n",
    "    plt.title('Receiver operating characteristic')\n",
    "    plt.legend(loc=\"lower right\")\n",
    "    plt.show()\n",
    "\"\"\" "
   ]
  },
  {
   "cell_type": "code",
   "execution_count": null,
   "metadata": {},
   "outputs": [],
   "source": []
  }
 ],
 "metadata": {
  "kernelspec": {
   "display_name": "Python 3",
   "language": "python",
   "name": "python3"
  },
  "language_info": {
   "codemirror_mode": {
    "name": "ipython",
    "version": 3
   },
   "file_extension": ".py",
   "mimetype": "text/x-python",
   "name": "python",
   "nbconvert_exporter": "python",
   "pygments_lexer": "ipython3",
   "version": "3.7.2"
  }
 },
 "nbformat": 4,
 "nbformat_minor": 2
}
