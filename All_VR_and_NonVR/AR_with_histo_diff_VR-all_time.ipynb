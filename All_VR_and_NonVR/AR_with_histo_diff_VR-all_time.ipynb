{
 "cells": [
  {
   "cell_type": "markdown",
   "metadata": {},
   "source": [
    "## Feature Extraction using Autoregressive and Statistical Histogram with difference of a DataFrame \n",
    " "
   ]
  },
  {
   "cell_type": "code",
   "execution_count": 1,
   "metadata": {},
   "outputs": [
    {
     "data": {
      "text/plain": [
       "<mne.utils.use_log_level at 0x29da69a91d0>"
      ]
     },
     "execution_count": 1,
     "metadata": {},
     "output_type": "execute_result"
    }
   ],
   "source": [
    "import pandas as pd\n",
    "import matplotlib.pyplot as plt\n",
    "import numpy as np\n",
    "import seaborn as sns\n",
    "%matplotlib inline\n",
    "import mne\n",
    "mne.utils.use_log_level('error')"
   ]
  },
  {
   "cell_type": "code",
   "execution_count": 75,
   "metadata": {},
   "outputs": [],
   "source": [
    "import glob\n",
    "\n",
    "path = r'Preprocessed_Data'\n",
    "all_files = glob.glob(path + \"/*_VR.fif\")\n",
    "\n",
    "cols = []\n",
    "sub = 1\n",
    "mean, median, std, mode,mean_std,skew,kurto = [],[],[],[],[],[],[]\n",
    "\n",
    "for filename in all_files:\n",
    "    raw =  mne.io.read_raw_fif(filename, preload=True,verbose='error');\n",
    "    if 'CH 4' in raw.info['ch_names']:\n",
    "        raw.pick_channels([\"CH 4\"])\n",
    "      \n",
    "        picks = mne.pick_types(raw.info, eeg=True, exclude=[])\n",
    "        \n",
    "        interval = 5\n",
    "        start = 55\n",
    "        stop = start + interval\n",
    "        while(stop <= 165):\n",
    "            start1, stop1 = raw.time_as_index([start, stop])\n",
    "            data, times = raw[picks[:], start1:stop1]\n",
    "            segment = pd.Series(data[0]).shift(17).dropna()\n",
    "            \n",
    "            df_mean = segment.mean()\n",
    "            mean.append(df_mean)\n",
    "            \n",
    "            df_median = segment.median()\n",
    "            median.append(df_median)\n",
    "                       \n",
    "            df_std = segment.std()\n",
    "            std.append(df_std)\n",
    "            \n",
    "            df_skewness = segment.skew()\n",
    "            skew.append(df_skewness)\n",
    "\n",
    "            df_kurt = segment.kurt()\n",
    "            kurto.append(df_kurt)\n",
    "            \n",
    "            df_mean_std = df_mean/df_std\n",
    "            mean_std.append(df_mean_std)            \n",
    "                       \n",
    "            start += interval\n",
    "            stop += interval\n",
    "\n",
    "            cols.append(sub)\n",
    "    sub += 1\n",
    "df1 = pd.DataFrame(data={'Mean':mean, 'Median':median, 'StdDev':std,'Mean/StdDev':mean_std,'Skew':skew,'Kurt':kurto})    \n",
    "\n",
    "df1.insert(loc=0, column='Subject', value=cols)"
   ]
  },
  {
   "cell_type": "code",
   "execution_count": 76,
   "metadata": {
    "scrolled": true
   },
   "outputs": [
    {
     "data": {
      "text/html": [
       "<div>\n",
       "<style scoped>\n",
       "    .dataframe tbody tr th:only-of-type {\n",
       "        vertical-align: middle;\n",
       "    }\n",
       "\n",
       "    .dataframe tbody tr th {\n",
       "        vertical-align: top;\n",
       "    }\n",
       "\n",
       "    .dataframe thead th {\n",
       "        text-align: right;\n",
       "    }\n",
       "</style>\n",
       "<table border=\"1\" class=\"dataframe\">\n",
       "  <thead>\n",
       "    <tr style=\"text-align: right;\">\n",
       "      <th></th>\n",
       "      <th>Subject</th>\n",
       "      <th>Mean</th>\n",
       "      <th>Median</th>\n",
       "      <th>StdDev</th>\n",
       "      <th>Mean/StdDev</th>\n",
       "      <th>Skew</th>\n",
       "      <th>Kurt</th>\n",
       "    </tr>\n",
       "  </thead>\n",
       "  <tbody>\n",
       "    <tr>\n",
       "      <th>0</th>\n",
       "      <td>1</td>\n",
       "      <td>-0.047717</td>\n",
       "      <td>0.853077</td>\n",
       "      <td>60.153542</td>\n",
       "      <td>-0.000793</td>\n",
       "      <td>-0.372398</td>\n",
       "      <td>1.726107</td>\n",
       "    </tr>\n",
       "    <tr>\n",
       "      <th>1</th>\n",
       "      <td>1</td>\n",
       "      <td>-0.586980</td>\n",
       "      <td>-1.398961</td>\n",
       "      <td>32.779575</td>\n",
       "      <td>-0.017907</td>\n",
       "      <td>0.235663</td>\n",
       "      <td>0.688715</td>\n",
       "    </tr>\n",
       "    <tr>\n",
       "      <th>2</th>\n",
       "      <td>1</td>\n",
       "      <td>0.496268</td>\n",
       "      <td>-0.249225</td>\n",
       "      <td>21.813704</td>\n",
       "      <td>0.022750</td>\n",
       "      <td>-0.036059</td>\n",
       "      <td>-0.105357</td>\n",
       "    </tr>\n",
       "    <tr>\n",
       "      <th>3</th>\n",
       "      <td>1</td>\n",
       "      <td>0.025601</td>\n",
       "      <td>1.037389</td>\n",
       "      <td>25.891945</td>\n",
       "      <td>0.000989</td>\n",
       "      <td>-0.008202</td>\n",
       "      <td>0.784456</td>\n",
       "    </tr>\n",
       "    <tr>\n",
       "      <th>4</th>\n",
       "      <td>1</td>\n",
       "      <td>-0.226370</td>\n",
       "      <td>0.226183</td>\n",
       "      <td>20.323359</td>\n",
       "      <td>-0.011138</td>\n",
       "      <td>-0.213009</td>\n",
       "      <td>-0.280326</td>\n",
       "    </tr>\n",
       "  </tbody>\n",
       "</table>\n",
       "</div>"
      ],
      "text/plain": [
       "   Subject      Mean    Median     StdDev  Mean/StdDev      Skew      Kurt\n",
       "0        1 -0.047717  0.853077  60.153542    -0.000793 -0.372398  1.726107\n",
       "1        1 -0.586980 -1.398961  32.779575    -0.017907  0.235663  0.688715\n",
       "2        1  0.496268 -0.249225  21.813704     0.022750 -0.036059 -0.105357\n",
       "3        1  0.025601  1.037389  25.891945     0.000989 -0.008202  0.784456\n",
       "4        1 -0.226370  0.226183  20.323359    -0.011138 -0.213009 -0.280326"
      ]
     },
     "execution_count": 76,
     "metadata": {},
     "output_type": "execute_result"
    }
   ],
   "source": [
    "df1.head() #Features after AR and Statistical histogram"
   ]
  },
  {
   "cell_type": "code",
   "execution_count": 77,
   "metadata": {},
   "outputs": [
    {
     "data": {
      "text/html": [
       "<div>\n",
       "<style scoped>\n",
       "    .dataframe tbody tr th:only-of-type {\n",
       "        vertical-align: middle;\n",
       "    }\n",
       "\n",
       "    .dataframe tbody tr th {\n",
       "        vertical-align: top;\n",
       "    }\n",
       "\n",
       "    .dataframe thead th {\n",
       "        text-align: right;\n",
       "    }\n",
       "</style>\n",
       "<table border=\"1\" class=\"dataframe\">\n",
       "  <thead>\n",
       "    <tr style=\"text-align: right;\">\n",
       "      <th></th>\n",
       "      <th>Subject</th>\n",
       "      <th>Mean</th>\n",
       "      <th>Median</th>\n",
       "      <th>StdDev</th>\n",
       "      <th>Mean/StdDev</th>\n",
       "      <th>Skew</th>\n",
       "      <th>Kurt</th>\n",
       "    </tr>\n",
       "  </thead>\n",
       "  <tbody>\n",
       "    <tr>\n",
       "      <th>1</th>\n",
       "      <td>0.0</td>\n",
       "      <td>-0.539263</td>\n",
       "      <td>-2.252037</td>\n",
       "      <td>-27.373966</td>\n",
       "      <td>-0.017114</td>\n",
       "      <td>0.608062</td>\n",
       "      <td>-1.037391</td>\n",
       "    </tr>\n",
       "    <tr>\n",
       "      <th>2</th>\n",
       "      <td>0.0</td>\n",
       "      <td>1.083249</td>\n",
       "      <td>1.149736</td>\n",
       "      <td>-10.965871</td>\n",
       "      <td>0.040657</td>\n",
       "      <td>-0.271722</td>\n",
       "      <td>-0.794072</td>\n",
       "    </tr>\n",
       "    <tr>\n",
       "      <th>3</th>\n",
       "      <td>0.0</td>\n",
       "      <td>-0.470667</td>\n",
       "      <td>1.286614</td>\n",
       "      <td>4.078241</td>\n",
       "      <td>-0.021762</td>\n",
       "      <td>0.027857</td>\n",
       "      <td>0.889813</td>\n",
       "    </tr>\n",
       "    <tr>\n",
       "      <th>4</th>\n",
       "      <td>0.0</td>\n",
       "      <td>-0.251972</td>\n",
       "      <td>-0.811207</td>\n",
       "      <td>-5.568586</td>\n",
       "      <td>-0.012127</td>\n",
       "      <td>-0.204807</td>\n",
       "      <td>-1.064782</td>\n",
       "    </tr>\n",
       "    <tr>\n",
       "      <th>5</th>\n",
       "      <td>0.0</td>\n",
       "      <td>0.420738</td>\n",
       "      <td>1.846343</td>\n",
       "      <td>-1.360457</td>\n",
       "      <td>0.021388</td>\n",
       "      <td>0.048117</td>\n",
       "      <td>-0.651973</td>\n",
       "    </tr>\n",
       "  </tbody>\n",
       "</table>\n",
       "</div>"
      ],
      "text/plain": [
       "   Subject      Mean    Median     StdDev  Mean/StdDev      Skew      Kurt\n",
       "1      0.0 -0.539263 -2.252037 -27.373966    -0.017114  0.608062 -1.037391\n",
       "2      0.0  1.083249  1.149736 -10.965871     0.040657 -0.271722 -0.794072\n",
       "3      0.0 -0.470667  1.286614   4.078241    -0.021762  0.027857  0.889813\n",
       "4      0.0 -0.251972 -0.811207  -5.568586    -0.012127 -0.204807 -1.064782\n",
       "5      0.0  0.420738  1.846343  -1.360457     0.021388  0.048117 -0.651973"
      ]
     },
     "execution_count": 77,
     "metadata": {},
     "output_type": "execute_result"
    }
   ],
   "source": [
    "# Features after 1st difference\n",
    "df2 = df1.diff().dropna()\n",
    "df2.head()"
   ]
  },
  {
   "cell_type": "code",
   "execution_count": 78,
   "metadata": {},
   "outputs": [
    {
     "data": {
      "text/html": [
       "<div>\n",
       "<style scoped>\n",
       "    .dataframe tbody tr th:only-of-type {\n",
       "        vertical-align: middle;\n",
       "    }\n",
       "\n",
       "    .dataframe tbody tr th {\n",
       "        vertical-align: top;\n",
       "    }\n",
       "\n",
       "    .dataframe thead th {\n",
       "        text-align: right;\n",
       "    }\n",
       "</style>\n",
       "<table border=\"1\" class=\"dataframe\">\n",
       "  <thead>\n",
       "    <tr style=\"text-align: right;\">\n",
       "      <th></th>\n",
       "      <th>Subject</th>\n",
       "      <th>Mean</th>\n",
       "      <th>Median</th>\n",
       "      <th>StdDev</th>\n",
       "      <th>Mean/StdDev</th>\n",
       "      <th>Skew</th>\n",
       "      <th>Kurt</th>\n",
       "    </tr>\n",
       "  </thead>\n",
       "  <tbody>\n",
       "    <tr>\n",
       "      <th>2</th>\n",
       "      <td>0.0</td>\n",
       "      <td>1.622512</td>\n",
       "      <td>3.401773</td>\n",
       "      <td>16.408095</td>\n",
       "      <td>0.057771</td>\n",
       "      <td>-0.879783</td>\n",
       "      <td>0.243320</td>\n",
       "    </tr>\n",
       "    <tr>\n",
       "      <th>3</th>\n",
       "      <td>0.0</td>\n",
       "      <td>-1.553916</td>\n",
       "      <td>0.136878</td>\n",
       "      <td>15.044112</td>\n",
       "      <td>-0.062419</td>\n",
       "      <td>0.299579</td>\n",
       "      <td>1.683885</td>\n",
       "    </tr>\n",
       "    <tr>\n",
       "      <th>4</th>\n",
       "      <td>0.0</td>\n",
       "      <td>0.218695</td>\n",
       "      <td>-2.097821</td>\n",
       "      <td>-9.646827</td>\n",
       "      <td>0.009634</td>\n",
       "      <td>-0.232663</td>\n",
       "      <td>-1.954595</td>\n",
       "    </tr>\n",
       "    <tr>\n",
       "      <th>5</th>\n",
       "      <td>0.0</td>\n",
       "      <td>0.672710</td>\n",
       "      <td>2.657550</td>\n",
       "      <td>4.208129</td>\n",
       "      <td>0.033516</td>\n",
       "      <td>0.252924</td>\n",
       "      <td>0.412809</td>\n",
       "    </tr>\n",
       "    <tr>\n",
       "      <th>6</th>\n",
       "      <td>0.0</td>\n",
       "      <td>-0.611649</td>\n",
       "      <td>-3.108729</td>\n",
       "      <td>-0.557181</td>\n",
       "      <td>-0.031435</td>\n",
       "      <td>-0.030764</td>\n",
       "      <td>1.097000</td>\n",
       "    </tr>\n",
       "  </tbody>\n",
       "</table>\n",
       "</div>"
      ],
      "text/plain": [
       "   Subject      Mean    Median     StdDev  Mean/StdDev      Skew      Kurt\n",
       "2      0.0  1.622512  3.401773  16.408095     0.057771 -0.879783  0.243320\n",
       "3      0.0 -1.553916  0.136878  15.044112    -0.062419  0.299579  1.683885\n",
       "4      0.0  0.218695 -2.097821  -9.646827     0.009634 -0.232663 -1.954595\n",
       "5      0.0  0.672710  2.657550   4.208129     0.033516  0.252924  0.412809\n",
       "6      0.0 -0.611649 -3.108729  -0.557181    -0.031435 -0.030764  1.097000"
      ]
     },
     "execution_count": 78,
     "metadata": {},
     "output_type": "execute_result"
    }
   ],
   "source": [
    "# Features after 2st difference\n",
    "df3 = df2.diff().dropna()\n",
    "df3.head()"
   ]
  },
  {
   "cell_type": "code",
   "execution_count": 79,
   "metadata": {},
   "outputs": [],
   "source": [
    "df1.reset_index(drop=True, inplace=True)\n",
    "df2.reset_index(drop=True, inplace=True)\n",
    "df3.reset_index(drop=True, inplace=True)"
   ]
  },
  {
   "cell_type": "code",
   "execution_count": 80,
   "metadata": {},
   "outputs": [],
   "source": [
    "# Cobnining all 3 different features\n",
    "df = pd.concat([df1, df2, df3], axis=1)"
   ]
  },
  {
   "cell_type": "code",
   "execution_count": 81,
   "metadata": {},
   "outputs": [
    {
     "data": {
      "text/html": [
       "<div>\n",
       "<style scoped>\n",
       "    .dataframe tbody tr th:only-of-type {\n",
       "        vertical-align: middle;\n",
       "    }\n",
       "\n",
       "    .dataframe tbody tr th {\n",
       "        vertical-align: top;\n",
       "    }\n",
       "\n",
       "    .dataframe thead th {\n",
       "        text-align: right;\n",
       "    }\n",
       "</style>\n",
       "<table border=\"1\" class=\"dataframe\">\n",
       "  <thead>\n",
       "    <tr style=\"text-align: right;\">\n",
       "      <th></th>\n",
       "      <th>Subject</th>\n",
       "      <th>Mean</th>\n",
       "      <th>Median</th>\n",
       "      <th>StdDev</th>\n",
       "      <th>Mean/StdDev</th>\n",
       "      <th>Skew</th>\n",
       "      <th>Kurt</th>\n",
       "      <th>Mean1</th>\n",
       "      <th>Median1</th>\n",
       "      <th>StdDev1</th>\n",
       "      <th>Mean/StdDev1</th>\n",
       "      <th>Skew1</th>\n",
       "      <th>Kurt1</th>\n",
       "      <th>Mean2</th>\n",
       "      <th>Median2</th>\n",
       "      <th>StdDev2</th>\n",
       "      <th>Mean/StdDev2</th>\n",
       "      <th>Skew2</th>\n",
       "      <th>Kurt2</th>\n",
       "    </tr>\n",
       "  </thead>\n",
       "  <tbody>\n",
       "    <tr>\n",
       "      <th>0</th>\n",
       "      <td>1</td>\n",
       "      <td>-0.047717</td>\n",
       "      <td>0.853077</td>\n",
       "      <td>60.153542</td>\n",
       "      <td>-0.000793</td>\n",
       "      <td>-0.372398</td>\n",
       "      <td>1.726107</td>\n",
       "      <td>-0.539263</td>\n",
       "      <td>-2.252037</td>\n",
       "      <td>-27.373966</td>\n",
       "      <td>-0.017114</td>\n",
       "      <td>0.608062</td>\n",
       "      <td>-1.037391</td>\n",
       "      <td>1.622512</td>\n",
       "      <td>3.401773</td>\n",
       "      <td>16.408095</td>\n",
       "      <td>0.057771</td>\n",
       "      <td>-0.879783</td>\n",
       "      <td>0.243320</td>\n",
       "    </tr>\n",
       "    <tr>\n",
       "      <th>1</th>\n",
       "      <td>1</td>\n",
       "      <td>-0.586980</td>\n",
       "      <td>-1.398961</td>\n",
       "      <td>32.779575</td>\n",
       "      <td>-0.017907</td>\n",
       "      <td>0.235663</td>\n",
       "      <td>0.688715</td>\n",
       "      <td>1.083249</td>\n",
       "      <td>1.149736</td>\n",
       "      <td>-10.965871</td>\n",
       "      <td>0.040657</td>\n",
       "      <td>-0.271722</td>\n",
       "      <td>-0.794072</td>\n",
       "      <td>-1.553916</td>\n",
       "      <td>0.136878</td>\n",
       "      <td>15.044112</td>\n",
       "      <td>-0.062419</td>\n",
       "      <td>0.299579</td>\n",
       "      <td>1.683885</td>\n",
       "    </tr>\n",
       "    <tr>\n",
       "      <th>2</th>\n",
       "      <td>1</td>\n",
       "      <td>0.496268</td>\n",
       "      <td>-0.249225</td>\n",
       "      <td>21.813704</td>\n",
       "      <td>0.022750</td>\n",
       "      <td>-0.036059</td>\n",
       "      <td>-0.105357</td>\n",
       "      <td>-0.470667</td>\n",
       "      <td>1.286614</td>\n",
       "      <td>4.078241</td>\n",
       "      <td>-0.021762</td>\n",
       "      <td>0.027857</td>\n",
       "      <td>0.889813</td>\n",
       "      <td>0.218695</td>\n",
       "      <td>-2.097821</td>\n",
       "      <td>-9.646827</td>\n",
       "      <td>0.009634</td>\n",
       "      <td>-0.232663</td>\n",
       "      <td>-1.954595</td>\n",
       "    </tr>\n",
       "    <tr>\n",
       "      <th>3</th>\n",
       "      <td>1</td>\n",
       "      <td>0.025601</td>\n",
       "      <td>1.037389</td>\n",
       "      <td>25.891945</td>\n",
       "      <td>0.000989</td>\n",
       "      <td>-0.008202</td>\n",
       "      <td>0.784456</td>\n",
       "      <td>-0.251972</td>\n",
       "      <td>-0.811207</td>\n",
       "      <td>-5.568586</td>\n",
       "      <td>-0.012127</td>\n",
       "      <td>-0.204807</td>\n",
       "      <td>-1.064782</td>\n",
       "      <td>0.672710</td>\n",
       "      <td>2.657550</td>\n",
       "      <td>4.208129</td>\n",
       "      <td>0.033516</td>\n",
       "      <td>0.252924</td>\n",
       "      <td>0.412809</td>\n",
       "    </tr>\n",
       "    <tr>\n",
       "      <th>4</th>\n",
       "      <td>1</td>\n",
       "      <td>-0.226370</td>\n",
       "      <td>0.226183</td>\n",
       "      <td>20.323359</td>\n",
       "      <td>-0.011138</td>\n",
       "      <td>-0.213009</td>\n",
       "      <td>-0.280326</td>\n",
       "      <td>0.420738</td>\n",
       "      <td>1.846343</td>\n",
       "      <td>-1.360457</td>\n",
       "      <td>0.021388</td>\n",
       "      <td>0.048117</td>\n",
       "      <td>-0.651973</td>\n",
       "      <td>-0.611649</td>\n",
       "      <td>-3.108729</td>\n",
       "      <td>-0.557181</td>\n",
       "      <td>-0.031435</td>\n",
       "      <td>-0.030764</td>\n",
       "      <td>1.097000</td>\n",
       "    </tr>\n",
       "  </tbody>\n",
       "</table>\n",
       "</div>"
      ],
      "text/plain": [
       "   Subject      Mean    Median     StdDev  Mean/StdDev      Skew      Kurt  \\\n",
       "0        1 -0.047717  0.853077  60.153542    -0.000793 -0.372398  1.726107   \n",
       "1        1 -0.586980 -1.398961  32.779575    -0.017907  0.235663  0.688715   \n",
       "2        1  0.496268 -0.249225  21.813704     0.022750 -0.036059 -0.105357   \n",
       "3        1  0.025601  1.037389  25.891945     0.000989 -0.008202  0.784456   \n",
       "4        1 -0.226370  0.226183  20.323359    -0.011138 -0.213009 -0.280326   \n",
       "\n",
       "      Mean1   Median1    StdDev1  Mean/StdDev1     Skew1     Kurt1     Mean2  \\\n",
       "0 -0.539263 -2.252037 -27.373966     -0.017114  0.608062 -1.037391  1.622512   \n",
       "1  1.083249  1.149736 -10.965871      0.040657 -0.271722 -0.794072 -1.553916   \n",
       "2 -0.470667  1.286614   4.078241     -0.021762  0.027857  0.889813  0.218695   \n",
       "3 -0.251972 -0.811207  -5.568586     -0.012127 -0.204807 -1.064782  0.672710   \n",
       "4  0.420738  1.846343  -1.360457      0.021388  0.048117 -0.651973 -0.611649   \n",
       "\n",
       "    Median2    StdDev2  Mean/StdDev2     Skew2     Kurt2  \n",
       "0  3.401773  16.408095      0.057771 -0.879783  0.243320  \n",
       "1  0.136878  15.044112     -0.062419  0.299579  1.683885  \n",
       "2 -2.097821  -9.646827      0.009634 -0.232663 -1.954595  \n",
       "3  2.657550   4.208129      0.033516  0.252924  0.412809  \n",
       "4 -3.108729  -0.557181     -0.031435 -0.030764  1.097000  "
      ]
     },
     "execution_count": 81,
     "metadata": {},
     "output_type": "execute_result"
    }
   ],
   "source": [
    "df.dropna(inplace=True)\n",
    "df.columns = df.columns = ['Subject', 'Mean', 'Median', 'StdDev', 'Mean/StdDev', 'Skew', 'Kurt',\n",
    "       'Subject1', 'Mean1', 'Median1', 'StdDev1', 'Mean/StdDev1', 'Skew1', 'Kurt1',\n",
    "       'Subject2', 'Mean2', 'Median2', 'StdDev2', 'Mean/StdDev2', 'Skew2', 'Kurt2']\n",
    "df.drop(['Subject1','Subject2'], axis=1, inplace=True)\n",
    "df.head()"
   ]
  },
  {
   "cell_type": "code",
   "execution_count": 82,
   "metadata": {},
   "outputs": [
    {
     "data": {
      "text/plain": [
       "Index(['Subject', 'Mean', 'Median', 'StdDev', 'Mean/StdDev', 'Skew', 'Kurt',\n",
       "       'Mean1', 'Median1', 'StdDev1', 'Mean/StdDev1', 'Skew1', 'Kurt1',\n",
       "       'Mean2', 'Median2', 'StdDev2', 'Mean/StdDev2', 'Skew2', 'Kurt2'],\n",
       "      dtype='object')"
      ]
     },
     "execution_count": 82,
     "metadata": {},
     "output_type": "execute_result"
    }
   ],
   "source": [
    "df.columns"
   ]
  },
  {
   "cell_type": "code",
   "execution_count": 83,
   "metadata": {},
   "outputs": [],
   "source": [
    "#import seaborn as sns\n",
    "#sns_plot = sns.pairplot(df1.drop('Subject', axis=1))\n",
    "#sns_plot.savefig('features_plot.png')"
   ]
  },
  {
   "cell_type": "code",
   "execution_count": 84,
   "metadata": {},
   "outputs": [],
   "source": [
    "feature_list = ['Mean', 'Median', 'StdDev','Mean/StdDev','Skew','Kurt',\n",
    "       'Mean1', 'Median1', 'StdDev1', 'Mean/StdDev1', 'Skew1', 'Kurt1',\n",
    "       'Mean2', 'Median2', 'StdDev2', 'Mean/StdDev2', 'Skew2', 'Kurt2']\n",
    "\n",
    "col = ['Kurt', 'Kurt1', 'Kurt2', 'Mean', 'Mean/StdDev', 'Mean/StdDev1',\n",
    "       'Mean/StdDev2', 'Mean1', 'Mean2', 'Median', 'Median1', 'Median2',\n",
    "       'Skew', 'Skew1', 'Skew2', 'StdDev', 'StdDev1', 'StdDev2', 'Subject',\n",
    "       'Type']"
   ]
  },
  {
   "cell_type": "code",
   "execution_count": 85,
   "metadata": {},
   "outputs": [],
   "source": [
    "import itertools"
   ]
  },
  {
   "cell_type": "code",
   "execution_count": 86,
   "metadata": {},
   "outputs": [],
   "source": [
    "def distanceCalculation(df):\n",
    "    subs = df['Subject'].unique()    # All subjects\n",
    "    all_subs= list(itertools.combinations(subs, 2)) # All possible combination for all subjects\n",
    "\n",
    "    distance_col = ['Subject',*feature_list, 'Type']\n",
    "    intra_data = pd.DataFrame(columns = distance_col)\n",
    "\n",
    "    #Intra Distance Computation (Same Person)\n",
    "    for sub in subs:\n",
    "        rows = df.loc[df['Subject'] == sub]\n",
    "        each_comb = list(itertools.combinations(rows.index, 2))\n",
    "        for i in range(len(each_comb)):\n",
    "            comb = each_comb[i]\n",
    "            fdr = absDistance(df, feature_list, comb[0], comb[1])\n",
    "            intra_data = intra_data.append(pd.Series([sub,*fdr,0], index=distance_col), ignore_index=True)\n",
    "    \n",
    "    inter_data = pd.DataFrame(columns = distance_col)\n",
    "    # Inter Distance Computation (Different Person) \n",
    "    all_rows=len(df)\n",
    "    for sub_pair in all_subs: # Pairs of subjets\n",
    "        sp1 = df.loc[df['Subject'] == sub_pair[0]].index\n",
    "        sp2 = df.loc[df['Subject'] == sub_pair[1]].index\n",
    "        for i in range(len(sp1)):\n",
    "            for j in range(len(sp2)):\n",
    "                fdr = absDistance(df, feature_list, sp1[i], sp2[j])\n",
    "                inter_data = inter_data.append(pd.Series([sub_pair, *fdr, 1], index=distance_col), ignore_index=True)    \n",
    "    return intra_data, inter_data\n",
    "\n",
    "def absDistance(df, features, s1, s2):\n",
    "    r=0\n",
    "    fdr = [None]*len(features)\n",
    "    for feature in features:\n",
    "        f1 = df.iloc[s1][feature] \n",
    "        f2 = df.iloc[s2][feature] \n",
    "        Inter_dis = np.absolute(f1-f2) # absolute difference\n",
    "        fdr[r] = Inter_dis\n",
    "        r+=1\n",
    "    return fdr"
   ]
  },
  {
   "cell_type": "code",
   "execution_count": 87,
   "metadata": {},
   "outputs": [],
   "source": [
    "intra1, inter1 = distanceCalculation(df)"
   ]
  },
  {
   "cell_type": "code",
   "execution_count": 88,
   "metadata": {},
   "outputs": [
    {
     "name": "stdout",
     "output_type": "stream",
     "text": [
      "Intra length: 6658\n",
      "Inter length: 195272\n"
     ]
    }
   ],
   "source": [
    "print(\"Intra length: \"+str(len(intra1)))\n",
    "print(\"Inter length: \"+str(len(inter1)))"
   ]
  },
  {
   "cell_type": "code",
   "execution_count": 89,
   "metadata": {},
   "outputs": [],
   "source": [
    "import random\n",
    "6\n",
    "#takes subframe and returns a more managble table for SVM\n",
    "def get_SVM_Table(intra, inter):\n",
    "    svmTable = pd.DataFrame()\n",
    "    rands = random.sample(range(0, len(intra)), 6000)\n",
    "    for rand in rands:\n",
    "        svmTable = svmTable.append(intra.iloc[rand],ignore_index=True)\n",
    "    \n",
    "    rands = random.sample(range(0, len(inter)), 9000)\n",
    "    for rand in rands:\n",
    "        svmTable = svmTable.append(inter.iloc[rand],ignore_index=True)\n",
    "    return svmTable"
   ]
  },
  {
   "cell_type": "code",
   "execution_count": 90,
   "metadata": {},
   "outputs": [],
   "source": [
    "svm1 = get_SVM_Table(intra1,inter1)"
   ]
  },
  {
   "cell_type": "markdown",
   "metadata": {},
   "source": [
    "# SVM"
   ]
  },
  {
   "cell_type": "code",
   "execution_count": 91,
   "metadata": {},
   "outputs": [],
   "source": [
    "from sklearn.model_selection import train_test_split\n",
    "from sklearn.svm import SVC\n",
    "from sklearn.metrics import confusion_matrix, classification_report, accuracy_score"
   ]
  },
  {
   "cell_type": "code",
   "execution_count": 92,
   "metadata": {},
   "outputs": [],
   "source": [
    "\n",
    "def svmTest(svm):\n",
    "    X = svm.drop(['Subject','Type'], axis=1)\n",
    "    y = svm[\"Type\"]\n",
    "    X_train, X_test, y_train, y_test = train_test_split(X, y, test_size=0.3, random_state=101)\n",
    "    \n",
    "    model = SVC(C=1.0, kernel = 'rbf', degree=3, gamma='auto')\n",
    "    model.fit(X_train, y_train)\n",
    "    prediction = model.predict(X_test)\n",
    "    confusionMatrix = confusion_matrix(y_test, prediction)\n",
    "    print(confusionMatrix)\n",
    "    print(classification_report(y_test, prediction))\n",
    "    print(\"Accuracy: \"+str(accuracy_score(y_test, prediction)))\n",
    "    return confusionMatrix, model"
   ]
  },
  {
   "cell_type": "code",
   "execution_count": 93,
   "metadata": {},
   "outputs": [
    {
     "name": "stdout",
     "output_type": "stream",
     "text": [
      "[[1159  647]\n",
      " [ 528 2166]]\n",
      "              precision    recall  f1-score   support\n",
      "\n",
      "         0.0       0.69      0.64      0.66      1806\n",
      "         1.0       0.77      0.80      0.79      2694\n",
      "\n",
      "   micro avg       0.74      0.74      0.74      4500\n",
      "   macro avg       0.73      0.72      0.73      4500\n",
      "weighted avg       0.74      0.74      0.74      4500\n",
      "\n",
      "Accuracy: 0.7388888888888889\n"
     ]
    }
   ],
   "source": [
    "cm, model = svmTest(svm1)"
   ]
  },
  {
   "cell_type": "code",
   "execution_count": 94,
   "metadata": {},
   "outputs": [
    {
     "name": "stdout",
     "output_type": "stream",
     "text": [
      "False Acceptance: 0.14377777777777778\n",
      "False Rejection: 0.11733333333333333\n",
      "0.7388888888888889\n"
     ]
    }
   ],
   "source": [
    "TN = cm[0][0]\n",
    "FN = cm[1][0]\n",
    "TP = cm[1][1]\n",
    "FP = cm[0][1]\n",
    "\n",
    "sums = TN+TP+FN+FP\n",
    "\n",
    "acc = (TN+TP)/sums\n",
    "\n",
    "print('False Acceptance: '+str(FP/sums))\n",
    "print('False Rejection: '+str(FN/sums))\n",
    "print(acc)"
   ]
  },
  {
   "cell_type": "code",
   "execution_count": 24,
   "metadata": {},
   "outputs": [],
   "source": [
    "def classify(test):\n",
    "    if(model.predict([test]))==0:\n",
    "        return True\n",
    "    else:\n",
    "        return False"
   ]
  },
  {
   "cell_type": "code",
   "execution_count": null,
   "metadata": {},
   "outputs": [],
   "source": []
  },
  {
   "cell_type": "markdown",
   "metadata": {},
   "source": [
    "##### Precision Score\n",
    "TP – True Positives\n",
    "FP – False Positives\n",
    "\n",
    "Precision – Accuracy of positive predictions.\n",
    "Precision = TP/(TP + FP)\n",
    "\n",
    "##### Recall Score\n",
    "FN – False Negatives\n",
    "\n",
    "Recall (aka sensitivity or true positive rate): Fraction of positives That were correctly identified.\n",
    "Recall = TP/(TP+FN)\n",
    "\n",
    "\n",
    "##### F1 Score\n",
    "F1 Score (aka F-Score or F-Measure) – A helpful metric for comparing two classifiers. F1 Score takes into account precision and the recall. It is created by finding the the harmonic mean of precision and recall.\n",
    "\n",
    "F1 = 2 x (precision x recall)/(precision + recall)\n"
   ]
  },
  {
   "cell_type": "code",
   "execution_count": null,
   "metadata": {},
   "outputs": [],
   "source": []
  },
  {
   "cell_type": "code",
   "execution_count": 78,
   "metadata": {},
   "outputs": [
    {
     "data": {
      "text/plain": [
       "'\\n    from sklearn.metrics import roc_curve, auc\\n    fpr, tpr, thresholds = roc_curve(y_test, prediction)\\n    roc_auc = auc(fpr, tpr)\\n\\n    plt.figure()\\n    plt.plot(fpr, tpr, color=\\'darkorange\\', lw=1, label=\\'ROC curve (area = %0.2f)\\' % roc_auc)\\n    plt.plot([0, 1], [0, 1], color=\\'navy\\', lw=2, linestyle=\\'--\\')\\n    plt.xlim([0.0, 1.0])\\n    plt.ylim([0.0, 1.05])\\n    plt.xlabel(\\'False Positive Rate\\')\\n    plt.ylabel(\\'True Positive Rate\\')\\n    plt.title(\\'Receiver operating characteristic\\')\\n    plt.legend(loc=\"lower right\")\\n    plt.show()\\n'"
      ]
     },
     "execution_count": 78,
     "metadata": {},
     "output_type": "execute_result"
    }
   ],
   "source": [
    "#from sklearn.metrics import roc_auc_score\n",
    "#fpr, tpr, thresholds = metrics.roc_curve(y_test, prediction, pos_label=2)\n",
    "\n",
    "\n",
    "\"\"\"\n",
    "    from sklearn.metrics import roc_curve, auc\n",
    "    fpr, tpr, thresholds = roc_curve(y_test, prediction)\n",
    "    roc_auc = auc(fpr, tpr)\n",
    "\n",
    "    plt.figure()\n",
    "    plt.plot(fpr, tpr, color='darkorange', lw=1, label='ROC curve (area = %0.2f)' % roc_auc)\n",
    "    plt.plot([0, 1], [0, 1], color='navy', lw=2, linestyle='--')\n",
    "    plt.xlim([0.0, 1.0])\n",
    "    plt.ylim([0.0, 1.05])\n",
    "    plt.xlabel('False Positive Rate')\n",
    "    plt.ylabel('True Positive Rate')\n",
    "    plt.title('Receiver operating characteristic')\n",
    "    plt.legend(loc=\"lower right\")\n",
    "    plt.show()\n",
    "\"\"\" "
   ]
  },
  {
   "cell_type": "code",
   "execution_count": null,
   "metadata": {},
   "outputs": [],
   "source": []
  }
 ],
 "metadata": {
  "kernelspec": {
   "display_name": "Python 3",
   "language": "python",
   "name": "python3"
  },
  "language_info": {
   "codemirror_mode": {
    "name": "ipython",
    "version": 3
   },
   "file_extension": ".py",
   "mimetype": "text/x-python",
   "name": "python",
   "nbconvert_exporter": "python",
   "pygments_lexer": "ipython3",
   "version": "3.7.2"
  }
 },
 "nbformat": 4,
 "nbformat_minor": 2
}
