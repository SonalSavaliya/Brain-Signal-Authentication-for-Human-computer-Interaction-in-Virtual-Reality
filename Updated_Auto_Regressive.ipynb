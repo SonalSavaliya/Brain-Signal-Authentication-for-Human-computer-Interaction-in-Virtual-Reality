{
 "cells": [
  {
   "cell_type": "markdown",
   "metadata": {},
   "source": [
    "## Auto Regressive for Feature Extraction by Lags of time series\n",
    " "
   ]
  },
  {
   "cell_type": "code",
   "execution_count": 1,
   "metadata": {},
   "outputs": [],
   "source": [
    "import pandas as pd\n",
    "import matplotlib.pyplot as plt\n",
    "import numpy as np\n",
    "%matplotlib inline"
   ]
  },
  {
   "cell_type": "code",
   "execution_count": 2,
   "metadata": {},
   "outputs": [
    {
     "data": {
      "text/html": [
       "<div>\n",
       "<style scoped>\n",
       "    .dataframe tbody tr th:only-of-type {\n",
       "        vertical-align: middle;\n",
       "    }\n",
       "\n",
       "    .dataframe tbody tr th {\n",
       "        vertical-align: top;\n",
       "    }\n",
       "\n",
       "    .dataframe thead th {\n",
       "        text-align: right;\n",
       "    }\n",
       "</style>\n",
       "<table border=\"1\" class=\"dataframe\">\n",
       "  <thead>\n",
       "    <tr style=\"text-align: right;\">\n",
       "      <th></th>\n",
       "      <th>CH 1</th>\n",
       "      <th>CH 2</th>\n",
       "      <th>CH 3</th>\n",
       "      <th>CH 4</th>\n",
       "      <th>CH 6</th>\n",
       "      <th>CH 7</th>\n",
       "      <th>CH 8</th>\n",
       "    </tr>\n",
       "  </thead>\n",
       "  <tbody>\n",
       "    <tr>\n",
       "      <th>0</th>\n",
       "      <td>1.918465e-12</td>\n",
       "      <td>1.520561e-12</td>\n",
       "      <td>1.714184e-13</td>\n",
       "      <td>-3.422151e-12</td>\n",
       "      <td>-6.483702e-14</td>\n",
       "      <td>1.247003e-12</td>\n",
       "      <td>1.392664e-12</td>\n",
       "    </tr>\n",
       "    <tr>\n",
       "      <th>1</th>\n",
       "      <td>-4.509159e+00</td>\n",
       "      <td>-6.211227e+00</td>\n",
       "      <td>-5.730144e+00</td>\n",
       "      <td>-6.112785e+00</td>\n",
       "      <td>2.984797e+01</td>\n",
       "      <td>-5.506791e+00</td>\n",
       "      <td>-3.553580e+00</td>\n",
       "    </tr>\n",
       "    <tr>\n",
       "      <th>2</th>\n",
       "      <td>3.025560e-01</td>\n",
       "      <td>-7.839167e-02</td>\n",
       "      <td>1.224983e+00</td>\n",
       "      <td>4.012415e+00</td>\n",
       "      <td>4.861158e+01</td>\n",
       "      <td>-8.120446e+00</td>\n",
       "      <td>3.683355e+00</td>\n",
       "    </tr>\n",
       "    <tr>\n",
       "      <th>3</th>\n",
       "      <td>-1.714121e-01</td>\n",
       "      <td>-6.277584e+00</td>\n",
       "      <td>-4.990203e+00</td>\n",
       "      <td>5.355046e-01</td>\n",
       "      <td>4.095041e+01</td>\n",
       "      <td>-1.461105e+01</td>\n",
       "      <td>-1.017404e+01</td>\n",
       "    </tr>\n",
       "    <tr>\n",
       "      <th>4</th>\n",
       "      <td>-1.554068e+00</td>\n",
       "      <td>-1.385413e+01</td>\n",
       "      <td>-6.776541e+00</td>\n",
       "      <td>-1.139681e+00</td>\n",
       "      <td>2.500130e+01</td>\n",
       "      <td>-2.130122e+01</td>\n",
       "      <td>-2.209927e+01</td>\n",
       "    </tr>\n",
       "  </tbody>\n",
       "</table>\n",
       "</div>"
      ],
      "text/plain": [
       "           CH 1          CH 2          CH 3          CH 4          CH 6  \\\n",
       "0  1.918465e-12  1.520561e-12  1.714184e-13 -3.422151e-12 -6.483702e-14   \n",
       "1 -4.509159e+00 -6.211227e+00 -5.730144e+00 -6.112785e+00  2.984797e+01   \n",
       "2  3.025560e-01 -7.839167e-02  1.224983e+00  4.012415e+00  4.861158e+01   \n",
       "3 -1.714121e-01 -6.277584e+00 -4.990203e+00  5.355046e-01  4.095041e+01   \n",
       "4 -1.554068e+00 -1.385413e+01 -6.776541e+00 -1.139681e+00  2.500130e+01   \n",
       "\n",
       "           CH 7          CH 8  \n",
       "0  1.247003e-12  1.392664e-12  \n",
       "1 -5.506791e+00 -3.553580e+00  \n",
       "2 -8.120446e+00  3.683355e+00  \n",
       "3 -1.461105e+01 -1.017404e+01  \n",
       "4 -2.130122e+01 -2.209927e+01  "
      ]
     },
     "execution_count": 2,
     "metadata": {},
     "output_type": "execute_result"
    }
   ],
   "source": [
    "eeg_data = pd.read_csv('Subject_1_VR.csv')\n",
    "eeg_data.head()"
   ]
  },
  {
   "cell_type": "code",
   "execution_count": 3,
   "metadata": {},
   "outputs": [],
   "source": [
    "eeg_data1 = eeg_data['CH 4']"
   ]
  },
  {
   "cell_type": "code",
   "execution_count": null,
   "metadata": {},
   "outputs": [
    {
     "data": {
      "text/plain": [
       "0   -3.422151e-12\n",
       "1   -6.112785e+00\n",
       "2    4.012415e+00\n",
       "3    5.355046e-01\n",
       "4   -1.139681e+00\n",
       "Name: CH 4, dtype: float64"
      ]
     },
     "execution_count": 4,
     "metadata": {},
     "output_type": "execute_result"
    }
   ],
   "source": [
    "eeg_data1.head()"
   ]
  },
  {
   "cell_type": "code",
   "execution_count": null,
   "metadata": {},
   "outputs": [
    {
     "data": {
      "text/plain": [
       "pandas.core.series.Series"
      ]
     },
     "execution_count": 5,
     "metadata": {},
     "output_type": "execute_result"
    }
   ],
   "source": [
    "type(eeg_data1)"
   ]
  },
  {
   "cell_type": "code",
   "execution_count": null,
   "metadata": {},
   "outputs": [
    {
     "data": {
      "text/plain": [
       "<matplotlib.axes._subplots.AxesSubplot at 0x17fd2245898>"
      ]
     },
     "execution_count": 6,
     "metadata": {},
     "output_type": "execute_result"
    },
    {
     "data": {
      "image/png": "[encoded data removed]",
      "text/plain": [
       "<Figure size 1440x360 with 1 Axes>"
      ]
     },
     "metadata": {
      "needs_background": "light"
     },
     "output_type": "display_data"
    }
   ],
   "source": [
    "eeg_data1.plot(figsize=(20,5)) ## CSV file data"
   ]
  },
  {
   "cell_type": "markdown",
   "metadata": {},
   "source": [
    "#### Testing for Stationarity"
   ]
  },
  {
   "cell_type": "code",
   "execution_count": null,
   "metadata": {},
   "outputs": [],
   "source": [
    "from statsmodels.tsa.stattools import adfuller"
   ]
  },
  {
   "cell_type": "code",
   "execution_count": null,
   "metadata": {},
   "outputs": [],
   "source": [
    "def adf_check(time_series):\n",
    "    \"\"\"\n",
    "    Pass in a time series, returns ADF report\n",
    "    \"\"\"\n",
    "    result = adfuller(time_series)\n",
    "    print('Augmented Dickey-Fuller Test:')\n",
    "    labels = ['ADF Test Statistic','p-value','#Lags Used','Number of Observations Used']\n",
    "\n",
    "    for value,label in zip(result,labels):\n",
    "        print(label+' : '+str(value) )\n",
    "    \n",
    "    if result[1] <= 0.05:\n",
    "        print(\"strong evidence against the null hypothesis, reject the null hypothesis. Data has no unit root and is stationary\")\n",
    "    else:\n",
    "        print(\"weak evidence against null hypothesis, time series has a unit root, indicating it is non-stationary \")"
   ]
  },
  {
   "cell_type": "code",
   "execution_count": null,
   "metadata": {},
   "outputs": [],
   "source": [
    "#checking data is stationary or not\n",
    "adf_check(eeg_data1)"
   ]
  },
  {
   "cell_type": "code",
   "execution_count": null,
   "metadata": {},
   "outputs": [],
   "source": [
    "from statsmodels.graphics.tsaplots import plot_acf"
   ]
  },
  {
   "cell_type": "markdown",
   "metadata": {},
   "source": [
    "### Auto correlation"
   ]
  },
  {
   "cell_type": "code",
   "execution_count": null,
   "metadata": {},
   "outputs": [],
   "source": [
    "fig, ax = plt.subplots(figsize=(70, 20))\n",
    "plot_acf(eeg_data1[:1000], ax=ax);"
   ]
  },
  {
   "cell_type": "markdown",
   "metadata": {},
   "source": [
    "# Lag of time series for 15"
   ]
  },
  {
   "cell_type": "code",
   "execution_count": null,
   "metadata": {},
   "outputs": [],
   "source": [
    "#take difference 1\n",
    "diff = eeg_data1.diff(periods=15)\n",
    "# integrated of order 1 because here we are taking 1 lag/1 time difference\n",
    "# it's denoted by d(diff), one of the parameter of ARIMA model\n",
    "\n",
    "diff.dropna(inplace=True)\n",
    "diff\n"
   ]
  },
  {
   "cell_type": "code",
   "execution_count": null,
   "metadata": {},
   "outputs": [],
   "source": [
    "fig, ax = plt.subplots(figsize=(50, 20))\n",
    "plot_acf(diff[:1000], ax=ax);"
   ]
  },
  {
   "cell_type": "code",
   "execution_count": null,
   "metadata": {
    "scrolled": true
   },
   "outputs": [],
   "source": [
    "diff.plot(figsize=(20,5))"
   ]
  },
  {
   "cell_type": "markdown",
   "metadata": {},
   "source": [
    "# Lags of time series from 16 to 20"
   ]
  },
  {
   "cell_type": "code",
   "execution_count": null,
   "metadata": {},
   "outputs": [],
   "source": [
    "df = pd.DataFrame(eeg_data1.copy())\n",
    "df.columns = [\"y\"]\n",
    "\n",
    "# Adding the lag of the target variable from 16 steps back up to 20\n",
    "for i in range(16, 21):\n",
    "    df[\"lag_{}\".format(i)] = df.y.shift(i)"
   ]
  },
  {
   "cell_type": "code",
   "execution_count": null,
   "metadata": {},
   "outputs": [],
   "source": [
    "df.dropna()"
   ]
  },
  {
   "cell_type": "code",
   "execution_count": null,
   "metadata": {},
   "outputs": [],
   "source": []
  },
  {
   "cell_type": "code",
   "execution_count": null,
   "metadata": {},
   "outputs": [],
   "source": []
  }
 ],
 "metadata": {
  "kernelspec": {
   "display_name": "Python 3",
   "language": "python",
   "name": "python3"
  },
  "language_info": {
   "codemirror_mode": {
    "name": "ipython",
    "version": 3
   },
   "file_extension": ".py",
   "mimetype": "text/x-python",
   "name": "python",
   "nbconvert_exporter": "python",
   "pygments_lexer": "ipython3",
   "version": "3.7.2"
  }
 },
 "nbformat": 4,
 "nbformat_minor": 2
}
