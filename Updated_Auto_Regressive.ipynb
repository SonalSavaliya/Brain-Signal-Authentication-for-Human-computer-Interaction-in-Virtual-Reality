{
 "cells": [
  {
   "cell_type": "markdown",
   "metadata": {},
   "source": [
    "## Auto Regressive for Feature Extraction by Lags of time series \n",
    " "
   ]
  },
  {
   "cell_type": "code",
   "execution_count": 1,
   "metadata": {},
   "outputs": [],
   "source": [
    "import pandas as pd\n",
    "import matplotlib.pyplot as plt\n",
    "import numpy as np\n",
    "import seaborn as sns\n",
    "%matplotlib inline\n",
    "\n",
    "import mne"
   ]
  },
  {
   "cell_type": "code",
   "execution_count": 4,
   "metadata": {},
   "outputs": [
    {
     "name": "stdout",
     "output_type": "stream",
     "text": [
      "Opening raw data file C:\\Users\\sonal\\EEG\\Pre_Processed data\\Subject-1_Non-VR.fif...\n",
      "Isotrak not found\n",
      "    Range : 1280 ... 22400 =     10.000 ...   175.000 secs\n",
      "Ready.\n",
      "Opening raw data file C:\\Users\\sonal\\EEG\\Pre_Processed data\\Subject-1_VR.fif...\n",
      "Isotrak not found\n",
      "    Range : 1280 ... 22400 =     10.000 ...   175.000 secs\n",
      "Ready.\n",
      "Opening raw data file C:\\Users\\sonal\\EEG\\Pre_Processed data\\Subject-2_Non-VR.fif...\n",
      "Isotrak not found\n"
     ]
    },
    {
     "name": "stderr",
     "output_type": "stream",
     "text": [
      "<ipython-input-4-48c84e2bc4be>:11: RuntimeWarning: This filename (C:\\Users\\sonal\\EEG\\Pre_Processed data\\Subject-1_Non-VR.fif) does not conform to MNE naming conventions. All raw files should end with raw.fif, raw_sss.fif, raw_tsss.fif, raw.fif.gz, raw_sss.fif.gz or raw_tsss.fif.gz\n",
      "  raw =  mne.io.read_raw_fif(filename);\n",
      "<ipython-input-4-48c84e2bc4be>:11: RuntimeWarning: This filename (C:\\Users\\sonal\\EEG\\Pre_Processed data\\Subject-1_VR.fif) does not conform to MNE naming conventions. All raw files should end with raw.fif, raw_sss.fif, raw_tsss.fif, raw.fif.gz, raw_sss.fif.gz or raw_tsss.fif.gz\n",
      "  raw =  mne.io.read_raw_fif(filename);\n",
      "<ipython-input-4-48c84e2bc4be>:11: RuntimeWarning: This filename (C:\\Users\\sonal\\EEG\\Pre_Processed data\\Subject-2_Non-VR.fif) does not conform to MNE naming conventions. All raw files should end with raw.fif, raw_sss.fif, raw_tsss.fif, raw.fif.gz, raw_sss.fif.gz or raw_tsss.fif.gz\n",
      "  raw =  mne.io.read_raw_fif(filename);\n"
     ]
    },
    {
     "name": "stdout",
     "output_type": "stream",
     "text": [
      "    Range : 1280 ... 22400 =     10.000 ...   175.000 secs\n",
      "Ready.\n",
      "Opening raw data file C:\\Users\\sonal\\EEG\\Pre_Processed data\\Subject-2_VR.fif...\n",
      "Isotrak not found\n",
      "    Range : 1280 ... 22400 =     10.000 ...   175.000 secs\n",
      "Ready.\n",
      "Opening raw data file C:\\Users\\sonal\\EEG\\Pre_Processed data\\Subject-3_Non-VR.fif...\n",
      "Isotrak not found\n",
      "    Range : 1280 ... 22400 =     10.000 ...   175.000 secs\n",
      "Ready.\n",
      "Opening raw data file C:\\Users\\sonal\\EEG\\Pre_Processed data\\Subject-3_VR.fif...\n",
      "Isotrak not found\n"
     ]
    },
    {
     "name": "stderr",
     "output_type": "stream",
     "text": [
      "<ipython-input-4-48c84e2bc4be>:11: RuntimeWarning: This filename (C:\\Users\\sonal\\EEG\\Pre_Processed data\\Subject-2_VR.fif) does not conform to MNE naming conventions. All raw files should end with raw.fif, raw_sss.fif, raw_tsss.fif, raw.fif.gz, raw_sss.fif.gz or raw_tsss.fif.gz\n",
      "  raw =  mne.io.read_raw_fif(filename);\n",
      "<ipython-input-4-48c84e2bc4be>:11: RuntimeWarning: This filename (C:\\Users\\sonal\\EEG\\Pre_Processed data\\Subject-3_Non-VR.fif) does not conform to MNE naming conventions. All raw files should end with raw.fif, raw_sss.fif, raw_tsss.fif, raw.fif.gz, raw_sss.fif.gz or raw_tsss.fif.gz\n",
      "  raw =  mne.io.read_raw_fif(filename);\n",
      "<ipython-input-4-48c84e2bc4be>:11: RuntimeWarning: This filename (C:\\Users\\sonal\\EEG\\Pre_Processed data\\Subject-3_VR.fif) does not conform to MNE naming conventions. All raw files should end with raw.fif, raw_sss.fif, raw_tsss.fif, raw.fif.gz, raw_sss.fif.gz or raw_tsss.fif.gz\n",
      "  raw =  mne.io.read_raw_fif(filename);\n"
     ]
    },
    {
     "name": "stdout",
     "output_type": "stream",
     "text": [
      "    Range : 1280 ... 22400 =     10.000 ...   175.000 secs\n",
      "Ready.\n",
      "Opening raw data file C:\\Users\\sonal\\EEG\\Pre_Processed data\\Subject-4_Non-VR.fif...\n",
      "Isotrak not found\n",
      "    Range : 1280 ... 22400 =     10.000 ...   175.000 secs\n",
      "Ready.\n",
      "Opening raw data file C:\\Users\\sonal\\EEG\\Pre_Processed data\\Subject-4_VR.fif...\n",
      "Isotrak not found\n",
      "    Range : 1280 ... 22400 =     10.000 ...   175.000 secs\n",
      "Ready.\n"
     ]
    },
    {
     "name": "stderr",
     "output_type": "stream",
     "text": [
      "<ipython-input-4-48c84e2bc4be>:11: RuntimeWarning: This filename (C:\\Users\\sonal\\EEG\\Pre_Processed data\\Subject-4_Non-VR.fif) does not conform to MNE naming conventions. All raw files should end with raw.fif, raw_sss.fif, raw_tsss.fif, raw.fif.gz, raw_sss.fif.gz or raw_tsss.fif.gz\n",
      "  raw =  mne.io.read_raw_fif(filename);\n",
      "<ipython-input-4-48c84e2bc4be>:11: RuntimeWarning: This filename (C:\\Users\\sonal\\EEG\\Pre_Processed data\\Subject-4_VR.fif) does not conform to MNE naming conventions. All raw files should end with raw.fif, raw_sss.fif, raw_tsss.fif, raw.fif.gz, raw_sss.fif.gz or raw_tsss.fif.gz\n",
      "  raw =  mne.io.read_raw_fif(filename);\n"
     ]
    },
    {
     "name": "stdout",
     "output_type": "stream",
     "text": [
      "Opening raw data file C:\\Users\\sonal\\EEG\\Pre_Processed data\\Subject-5_Non-VR.fif...\n",
      "Isotrak not found\n",
      "    Range : 1280 ... 22400 =     10.000 ...   175.000 secs\n",
      "Ready.\n",
      "Opening raw data file C:\\Users\\sonal\\EEG\\Pre_Processed data\\Subject-5_VR.fif...\n",
      "Isotrak not found\n",
      "    Range : 1280 ... 22400 =     10.000 ...   175.000 secs\n",
      "Ready.\n",
      "Opening raw data file C:\\Users\\sonal\\EEG\\Pre_Processed data\\Subject-6_Non-VR.fif...\n",
      "Isotrak not found\n",
      "    Range : 1280 ... 22400 =     10.000 ...   175.000 secs\n",
      "Ready.\n"
     ]
    },
    {
     "name": "stderr",
     "output_type": "stream",
     "text": [
      "<ipython-input-4-48c84e2bc4be>:11: RuntimeWarning: This filename (C:\\Users\\sonal\\EEG\\Pre_Processed data\\Subject-5_Non-VR.fif) does not conform to MNE naming conventions. All raw files should end with raw.fif, raw_sss.fif, raw_tsss.fif, raw.fif.gz, raw_sss.fif.gz or raw_tsss.fif.gz\n",
      "  raw =  mne.io.read_raw_fif(filename);\n",
      "<ipython-input-4-48c84e2bc4be>:11: RuntimeWarning: This filename (C:\\Users\\sonal\\EEG\\Pre_Processed data\\Subject-5_VR.fif) does not conform to MNE naming conventions. All raw files should end with raw.fif, raw_sss.fif, raw_tsss.fif, raw.fif.gz, raw_sss.fif.gz or raw_tsss.fif.gz\n",
      "  raw =  mne.io.read_raw_fif(filename);\n",
      "<ipython-input-4-48c84e2bc4be>:11: RuntimeWarning: This filename (C:\\Users\\sonal\\EEG\\Pre_Processed data\\Subject-6_Non-VR.fif) does not conform to MNE naming conventions. All raw files should end with raw.fif, raw_sss.fif, raw_tsss.fif, raw.fif.gz, raw_sss.fif.gz or raw_tsss.fif.gz\n",
      "  raw =  mne.io.read_raw_fif(filename);\n"
     ]
    },
    {
     "name": "stdout",
     "output_type": "stream",
     "text": [
      "Opening raw data file C:\\Users\\sonal\\EEG\\Pre_Processed data\\Subject-6_VR.fif...\n",
      "Isotrak not found\n",
      "    Range : 1280 ... 22400 =     10.000 ...   175.000 secs\n",
      "Ready.\n",
      "Opening raw data file C:\\Users\\sonal\\EEG\\Pre_Processed data\\Subject-7_Non-VR.fif...\n",
      "Isotrak not found\n",
      "    Range : 1280 ... 22400 =     10.000 ...   175.000 secs\n",
      "Ready.\n",
      "Opening raw data file C:\\Users\\sonal\\EEG\\Pre_Processed data\\Subject-7_VR.fif...\n"
     ]
    },
    {
     "name": "stderr",
     "output_type": "stream",
     "text": [
      "<ipython-input-4-48c84e2bc4be>:11: RuntimeWarning: This filename (C:\\Users\\sonal\\EEG\\Pre_Processed data\\Subject-6_VR.fif) does not conform to MNE naming conventions. All raw files should end with raw.fif, raw_sss.fif, raw_tsss.fif, raw.fif.gz, raw_sss.fif.gz or raw_tsss.fif.gz\n",
      "  raw =  mne.io.read_raw_fif(filename);\n",
      "<ipython-input-4-48c84e2bc4be>:11: RuntimeWarning: This filename (C:\\Users\\sonal\\EEG\\Pre_Processed data\\Subject-7_Non-VR.fif) does not conform to MNE naming conventions. All raw files should end with raw.fif, raw_sss.fif, raw_tsss.fif, raw.fif.gz, raw_sss.fif.gz or raw_tsss.fif.gz\n",
      "  raw =  mne.io.read_raw_fif(filename);\n",
      "<ipython-input-4-48c84e2bc4be>:11: RuntimeWarning: This filename (C:\\Users\\sonal\\EEG\\Pre_Processed data\\Subject-7_VR.fif) does not conform to MNE naming conventions. All raw files should end with raw.fif, raw_sss.fif, raw_tsss.fif, raw.fif.gz, raw_sss.fif.gz or raw_tsss.fif.gz\n",
      "  raw =  mne.io.read_raw_fif(filename);\n"
     ]
    },
    {
     "name": "stdout",
     "output_type": "stream",
     "text": [
      "Isotrak not found\n",
      "    Range : 1280 ... 22400 =     10.000 ...   175.000 secs\n",
      "Ready.\n",
      "Opening raw data file C:\\Users\\sonal\\EEG\\Pre_Processed data\\Subject-8_Non-VR.fif...\n",
      "Isotrak not found\n",
      "    Range : 1280 ... 22400 =     10.000 ...   175.000 secs\n",
      "Ready.\n",
      "Opening raw data file C:\\Users\\sonal\\EEG\\Pre_Processed data\\Subject-8_VR.fif...\n",
      "Isotrak not found\n",
      "    Range : 1280 ... 22400 =     10.000 ...   175.000 secs\n",
      "Ready.\n"
     ]
    },
    {
     "name": "stderr",
     "output_type": "stream",
     "text": [
      "<ipython-input-4-48c84e2bc4be>:11: RuntimeWarning: This filename (C:\\Users\\sonal\\EEG\\Pre_Processed data\\Subject-8_Non-VR.fif) does not conform to MNE naming conventions. All raw files should end with raw.fif, raw_sss.fif, raw_tsss.fif, raw.fif.gz, raw_sss.fif.gz or raw_tsss.fif.gz\n",
      "  raw =  mne.io.read_raw_fif(filename);\n",
      "<ipython-input-4-48c84e2bc4be>:11: RuntimeWarning: This filename (C:\\Users\\sonal\\EEG\\Pre_Processed data\\Subject-8_VR.fif) does not conform to MNE naming conventions. All raw files should end with raw.fif, raw_sss.fif, raw_tsss.fif, raw.fif.gz, raw_sss.fif.gz or raw_tsss.fif.gz\n",
      "  raw =  mne.io.read_raw_fif(filename);\n"
     ]
    }
   ],
   "source": [
    "import glob\n",
    "\n",
    "\n",
    "path = r'Pre_Processed data' # use your path\n",
    "all_files = glob.glob(path + \"/*.fif\")\n",
    "\n",
    "li = []\n",
    "cols = []\n",
    "sub = 1\n",
    "for filename in all_files:\n",
    "    raw =  mne.io.read_raw_fif(filename);\n",
    "    raw.crop(tmin=50, tmax=165)\n",
    "    #df = pd.read_csv(filename, index_col=None, header=0)\n",
    "    if 'CH 4' in raw.info['ch_names']:\n",
    "        li.append(pd.Series(raw.get_data()[0]).shift(15))\n",
    "        cols.append(str(sub)+'_CH4')\n",
    "    sub += 1    \n",
    "frame = pd.concat(li, axis=1, ignore_index=True, sort=False)\n",
    "frame.columns = cols\n",
    "frame.dropna(inplace=True)"
   ]
  },
  {
   "cell_type": "code",
   "execution_count": 5,
   "metadata": {},
   "outputs": [
    {
     "data": {
      "text/html": [
       "<div>\n",
       "<style scoped>\n",
       "    .dataframe tbody tr th:only-of-type {\n",
       "        vertical-align: middle;\n",
       "    }\n",
       "\n",
       "    .dataframe tbody tr th {\n",
       "        vertical-align: top;\n",
       "    }\n",
       "\n",
       "    .dataframe thead th {\n",
       "        text-align: right;\n",
       "    }\n",
       "</style>\n",
       "<table border=\"1\" class=\"dataframe\">\n",
       "  <thead>\n",
       "    <tr style=\"text-align: right;\">\n",
       "      <th></th>\n",
       "      <th>1_CH4</th>\n",
       "      <th>2_CH4</th>\n",
       "      <th>3_CH4</th>\n",
       "      <th>4_CH4</th>\n",
       "      <th>5_CH4</th>\n",
       "      <th>6_CH4</th>\n",
       "      <th>7_CH4</th>\n",
       "      <th>8_CH4</th>\n",
       "      <th>9_CH4</th>\n",
       "      <th>10_CH4</th>\n",
       "      <th>11_CH4</th>\n",
       "      <th>12_CH4</th>\n",
       "    </tr>\n",
       "  </thead>\n",
       "  <tbody>\n",
       "    <tr>\n",
       "      <th>0</th>\n",
       "      <td>1.117504</td>\n",
       "      <td>1.306901</td>\n",
       "      <td>7.612332</td>\n",
       "      <td>10.929424</td>\n",
       "      <td>-15.210828</td>\n",
       "      <td>-1554.625366</td>\n",
       "      <td>1.337520</td>\n",
       "      <td>-1.275967</td>\n",
       "      <td>17.497911</td>\n",
       "      <td>-9.492356</td>\n",
       "      <td>-3.193431</td>\n",
       "      <td>-11.882895</td>\n",
       "    </tr>\n",
       "    <tr>\n",
       "      <th>1</th>\n",
       "      <td>-0.464787</td>\n",
       "      <td>-6.590934</td>\n",
       "      <td>11.801425</td>\n",
       "      <td>7.699463</td>\n",
       "      <td>-13.577101</td>\n",
       "      <td>1086.576660</td>\n",
       "      <td>7.268353</td>\n",
       "      <td>-1.237715</td>\n",
       "      <td>10.577182</td>\n",
       "      <td>-7.965661</td>\n",
       "      <td>-13.606467</td>\n",
       "      <td>-3.743621</td>\n",
       "    </tr>\n",
       "    <tr>\n",
       "      <th>2</th>\n",
       "      <td>-10.701982</td>\n",
       "      <td>-2.046821</td>\n",
       "      <td>8.125918</td>\n",
       "      <td>2.277603</td>\n",
       "      <td>-0.369389</td>\n",
       "      <td>2541.566162</td>\n",
       "      <td>11.250994</td>\n",
       "      <td>0.726187</td>\n",
       "      <td>12.434978</td>\n",
       "      <td>-2.463110</td>\n",
       "      <td>-8.936671</td>\n",
       "      <td>-3.205647</td>\n",
       "    </tr>\n",
       "    <tr>\n",
       "      <th>3</th>\n",
       "      <td>-7.806469</td>\n",
       "      <td>-0.352435</td>\n",
       "      <td>3.246489</td>\n",
       "      <td>4.293180</td>\n",
       "      <td>-6.872201</td>\n",
       "      <td>3778.023926</td>\n",
       "      <td>8.287823</td>\n",
       "      <td>1.245456</td>\n",
       "      <td>7.755893</td>\n",
       "      <td>4.167867</td>\n",
       "      <td>2.243470</td>\n",
       "      <td>-0.046312</td>\n",
       "    </tr>\n",
       "    <tr>\n",
       "      <th>4</th>\n",
       "      <td>12.922297</td>\n",
       "      <td>-5.471541</td>\n",
       "      <td>7.532561</td>\n",
       "      <td>5.807290</td>\n",
       "      <td>10.069869</td>\n",
       "      <td>4805.747070</td>\n",
       "      <td>1.305077</td>\n",
       "      <td>0.319800</td>\n",
       "      <td>-1.378665</td>\n",
       "      <td>24.764910</td>\n",
       "      <td>0.769023</td>\n",
       "      <td>6.333132</td>\n",
       "    </tr>\n",
       "  </tbody>\n",
       "</table>\n",
       "</div>"
      ],
      "text/plain": [
       "       1_CH4     2_CH4      3_CH4      4_CH4      5_CH4        6_CH4  \\\n",
       "0   1.117504  1.306901   7.612332  10.929424 -15.210828 -1554.625366   \n",
       "1  -0.464787 -6.590934  11.801425   7.699463 -13.577101  1086.576660   \n",
       "2 -10.701982 -2.046821   8.125918   2.277603  -0.369389  2541.566162   \n",
       "3  -7.806469 -0.352435   3.246489   4.293180  -6.872201  3778.023926   \n",
       "4  12.922297 -5.471541   7.532561   5.807290  10.069869  4805.747070   \n",
       "\n",
       "       7_CH4     8_CH4      9_CH4     10_CH4     11_CH4     12_CH4  \n",
       "0   1.337520 -1.275967  17.497911  -9.492356  -3.193431 -11.882895  \n",
       "1   7.268353 -1.237715  10.577182  -7.965661 -13.606467  -3.743621  \n",
       "2  11.250994  0.726187  12.434978  -2.463110  -8.936671  -3.205647  \n",
       "3   8.287823  1.245456   7.755893   4.167867   2.243470  -0.046312  \n",
       "4   1.305077  0.319800  -1.378665  24.764910   0.769023   6.333132  "
      ]
     },
     "execution_count": 5,
     "metadata": {},
     "output_type": "execute_result"
    }
   ],
   "source": [
    "df = frame\n",
    "df.reset_index(drop=True, inplace=True)\n",
    "df.head()"
   ]
  },
  {
   "cell_type": "markdown",
   "metadata": {},
   "source": [
    "## Data Normalization"
   ]
  },
  {
   "cell_type": "code",
   "execution_count": 6,
   "metadata": {},
   "outputs": [
    {
     "data": {
      "text/html": [
       "<div>\n",
       "<style scoped>\n",
       "    .dataframe tbody tr th:only-of-type {\n",
       "        vertical-align: middle;\n",
       "    }\n",
       "\n",
       "    .dataframe tbody tr th {\n",
       "        vertical-align: top;\n",
       "    }\n",
       "\n",
       "    .dataframe thead th {\n",
       "        text-align: right;\n",
       "    }\n",
       "</style>\n",
       "<table border=\"1\" class=\"dataframe\">\n",
       "  <thead>\n",
       "    <tr style=\"text-align: right;\">\n",
       "      <th></th>\n",
       "      <th>1_CH4</th>\n",
       "      <th>2_CH4</th>\n",
       "      <th>3_CH4</th>\n",
       "      <th>4_CH4</th>\n",
       "      <th>5_CH4</th>\n",
       "      <th>6_CH4</th>\n",
       "      <th>7_CH4</th>\n",
       "      <th>8_CH4</th>\n",
       "      <th>9_CH4</th>\n",
       "      <th>10_CH4</th>\n",
       "      <th>11_CH4</th>\n",
       "      <th>12_CH4</th>\n",
       "    </tr>\n",
       "  </thead>\n",
       "  <tbody>\n",
       "    <tr>\n",
       "      <th>0</th>\n",
       "      <td>0.005458</td>\n",
       "      <td>0.005877</td>\n",
       "      <td>0.003013</td>\n",
       "      <td>0.058686</td>\n",
       "      <td>-0.040237</td>\n",
       "      <td>-0.231094</td>\n",
       "      <td>0.007501</td>\n",
       "      <td>-0.028777</td>\n",
       "      <td>0.091493</td>\n",
       "      <td>-0.020536</td>\n",
       "      <td>-0.016279</td>\n",
       "      <td>-0.020283</td>\n",
       "    </tr>\n",
       "    <tr>\n",
       "      <th>1</th>\n",
       "      <td>-0.002249</td>\n",
       "      <td>-0.029649</td>\n",
       "      <td>0.004672</td>\n",
       "      <td>0.041338</td>\n",
       "      <td>-0.035916</td>\n",
       "      <td>0.160833</td>\n",
       "      <td>0.041027</td>\n",
       "      <td>-0.027915</td>\n",
       "      <td>0.055303</td>\n",
       "      <td>-0.017233</td>\n",
       "      <td>-0.069350</td>\n",
       "      <td>-0.006397</td>\n",
       "    </tr>\n",
       "    <tr>\n",
       "      <th>2</th>\n",
       "      <td>-0.052113</td>\n",
       "      <td>-0.009209</td>\n",
       "      <td>0.003217</td>\n",
       "      <td>0.012217</td>\n",
       "      <td>-0.000984</td>\n",
       "      <td>0.376738</td>\n",
       "      <td>0.063540</td>\n",
       "      <td>0.016329</td>\n",
       "      <td>0.065018</td>\n",
       "      <td>-0.005327</td>\n",
       "      <td>-0.045550</td>\n",
       "      <td>-0.005479</td>\n",
       "    </tr>\n",
       "    <tr>\n",
       "      <th>3</th>\n",
       "      <td>-0.038009</td>\n",
       "      <td>-0.001587</td>\n",
       "      <td>0.001285</td>\n",
       "      <td>0.023043</td>\n",
       "      <td>-0.018182</td>\n",
       "      <td>0.560216</td>\n",
       "      <td>0.046790</td>\n",
       "      <td>0.028028</td>\n",
       "      <td>0.040550</td>\n",
       "      <td>0.009020</td>\n",
       "      <td>0.011430</td>\n",
       "      <td>-0.000090</td>\n",
       "    </tr>\n",
       "    <tr>\n",
       "      <th>4</th>\n",
       "      <td>0.062957</td>\n",
       "      <td>-0.024614</td>\n",
       "      <td>0.002982</td>\n",
       "      <td>0.031175</td>\n",
       "      <td>0.026626</td>\n",
       "      <td>0.712719</td>\n",
       "      <td>0.007317</td>\n",
       "      <td>0.007174</td>\n",
       "      <td>-0.007217</td>\n",
       "      <td>0.053586</td>\n",
       "      <td>0.003915</td>\n",
       "      <td>0.010794</td>\n",
       "    </tr>\n",
       "  </tbody>\n",
       "</table>\n",
       "</div>"
      ],
      "text/plain": [
       "      1_CH4     2_CH4     3_CH4     4_CH4     5_CH4     6_CH4     7_CH4  \\\n",
       "0  0.005458  0.005877  0.003013  0.058686 -0.040237 -0.231094  0.007501   \n",
       "1 -0.002249 -0.029649  0.004672  0.041338 -0.035916  0.160833  0.041027   \n",
       "2 -0.052113 -0.009209  0.003217  0.012217 -0.000984  0.376738  0.063540   \n",
       "3 -0.038009 -0.001587  0.001285  0.023043 -0.018182  0.560216  0.046790   \n",
       "4  0.062957 -0.024614  0.002982  0.031175  0.026626  0.712719  0.007317   \n",
       "\n",
       "      8_CH4     9_CH4    10_CH4    11_CH4    12_CH4  \n",
       "0 -0.028777  0.091493 -0.020536 -0.016279 -0.020283  \n",
       "1 -0.027915  0.055303 -0.017233 -0.069350 -0.006397  \n",
       "2  0.016329  0.065018 -0.005327 -0.045550 -0.005479  \n",
       "3  0.028028  0.040550  0.009020  0.011430 -0.000090  \n",
       "4  0.007174 -0.007217  0.053586  0.003915  0.010794  "
      ]
     },
     "execution_count": 6,
     "metadata": {},
     "output_type": "execute_result"
    }
   ],
   "source": [
    "df_norm = (df - df.mean()) / (df.max() - df.min())\n",
    "df_norm.head()"
   ]
  },
  {
   "cell_type": "code",
   "execution_count": 7,
   "metadata": {},
   "outputs": [
    {
     "name": "stdout",
     "output_type": "stream",
     "text": [
      "<class 'pandas.core.frame.DataFrame'>\n",
      "RangeIndex: 14706 entries, 0 to 14705\n",
      "Data columns (total 12 columns):\n",
      "1_CH4     14706 non-null float64\n",
      "2_CH4     14706 non-null float64\n",
      "3_CH4     14706 non-null float64\n",
      "4_CH4     14706 non-null float64\n",
      "5_CH4     14706 non-null float64\n",
      "6_CH4     14706 non-null float64\n",
      "7_CH4     14706 non-null float64\n",
      "8_CH4     14706 non-null float64\n",
      "9_CH4     14706 non-null float64\n",
      "10_CH4    14706 non-null float64\n",
      "11_CH4    14706 non-null float64\n",
      "12_CH4    14706 non-null float64\n",
      "dtypes: float64(12)\n",
      "memory usage: 1.3 MB\n"
     ]
    }
   ],
   "source": [
    "df_norm.info()"
   ]
  },
  {
   "cell_type": "markdown",
   "metadata": {},
   "source": [
    "## Dichotomizer"
   ]
  },
  {
   "cell_type": "code",
   "execution_count": 8,
   "metadata": {},
   "outputs": [],
   "source": [
    "import itertools"
   ]
  },
  {
   "cell_type": "code",
   "execution_count": 9,
   "metadata": {},
   "outputs": [
    {
     "name": "stdout",
     "output_type": "stream",
     "text": [
      "180\n",
      "[1.0000296988163249, 2.0008284191908188, 3.000314880249397, 4.000413244670856, 5.002732082470942, 1.0012424106180975, 2.0003196681954476, 3.0007085530396096, 4.003740230302701, 1.0000994493906663, 2.0033075094048276, 3.0082680936591566, 1.0050841369748842, 2.010867714710071, 1.0057951117938564, 1.000630864779565, 2.00005689511685, 3.000009285469995, 4.00011621190818, 5.000036180112198, 1.0002088863657743, 2.0001968638554652, 3.000004225718839, 4.000034053093339, 1.0000290452655243, 2.0000593295399325, 3.00000258100112, 1.000265086648902, 2.000033390766295, 1.000065778529912, 1.000001375477166, 2.0000000103373727, 3.0000004979993764, 4.000000000124695, 5.000000136121984, 1.0000010588829056, 2.000002868249954, 3.0000004761207792, 4.000000030244153, 1.0000018661710979, 2.0000000137980183, 3.000000154679494, 1.000001439900128, 2.0000020956829023, 1.0000007179581436, 1.000150465887634, 2.00053976243668, 3.000211730976789, 4.000094604773287, 5.000189701704077, 1.0004239169475435, 2.00008367558941, 3.0000172137591483, 4.000085850815596, 1.0000585951915095, 2.0000898480577725, 3.0000014147842426, 1.000033066171546, 2.0000156501542112, 1.0001287017774119, 1.000009335134106, 2.0003851623203293, 3.000081063534296, 4.00055879348395, 5.00117489465837, 1.0006099389027006, 2.0000786157618475, 3.0006518476962065, 4.001353799779075, 1.000147888327128, 2.000190568945464, 3.0007967541341665, 1.0010034106053638, 2.001862985170784, 1.0008622450044484, 1.0740609544620443, 2.090325468036755, 3.102607285667138, 4.109839965124016, 5.092602329523723, 1.0230421167202364, 2.0394869074560993, 3.0503407749075837, 4.041091070316661, 1.0166926936680016, 2.02802449030144, 3.02139355568052, 1.0115618269647646, 2.0076797077984607, 1.0002629155364902, 1.000561844080019, 2.000784951650949, 3.0002572610098825, 4.000000004204168, 5.000005029704368, 1.000253392428685, 2.0000083027922186, 3.0001893830982005, 4.000206224546544, 1.0001402779337867, 2.000790096684061, 3.0006641912274956, 1.0007787351048474, 2.0005377299746923, 1.0000238644285984, 1.0000003713348935, 2.0005085740050412, 3.0005377439150682, 4.000161552758189, 5.000339712557763, 1.0009782985184081, 2.0007822442742578, 3.0002051975728232, 4.000412169281296, 1.0000684248132774, 2.0000209552409234, 3.0000289511261817, 1.0002174184691124, 2.000000548594271, 1.0002493999406903, 1.0006546516274513, 2.0001752281806504, 3.0004325077888567, 4.001217780362399, 5.000353550708936, 1.0000471883432982, 2.0000544136347806, 3.0006513896771594, 4.00006769164857, 1.0002992991935564, 2.001304047831922, 3.000181338849279, 1.001140187196258, 2.000018137909003, 1.0007699507547172, 1.000005455799675, 2.0000578277336016, 3.0001455923904152, 4.00068669363749, 5.000323538744126, 1.000070870860285, 2.0001722980507903, 3.00083575754169, 4.000358810652616, 1.0001029170934828, 2.000867486698378, 3.0002894170648116, 1.0009925426306312, 2.0001866562216875, 1.0001486024949946, 1.0014072458754644, 2.0002141812290524, 3.0001279655576982, 4.000050978421238, 5.00003017908573, 1.000283175083554, 2.0016306802232418, 3.000894499336395, 4.000620221895066, 1.0016220462159984, 2.0006116141129557, 3.0003625699233996, 1.0000282340511535, 2.000026714375213, 1.0000039836560797, 1.000096403752851, 2.000054786261949, 3.0000679626082003, 4.000120721406945, 5.000085274530716, 1.0000004211792268, 2.000009946811571, 3.0000492560857035, 4.0000293226761245, 1.0000145255138708, 2.0000662051577796, 3.0000345515349283, 1.0000592238040402, 2.0000202875241615, 1.0000017581246028]\n",
      "\n",
      "\n",
      "396\n",
      "[0.0004193543102354652, 0.027400037020988942, 0.042903981623257925, 0.03642225285378284, 0.08757071210725825, 0.18391445118623834, 0.0024445258136212527, 0.006921118054749508, 0.055329324893964825, 0.03929389836891756, 0.0599750503237748, 0.16659051315638304, 0.05322781712875212, 0.04358682252213101, 0.06432961121808979, 0.06105172194838108, 0.03178197807440207, 0.15564005570895292, 0.045694365654162655, 0.03366640180748768, 0.05112913449755822, 0.01982684164640686, 0.036330310814956954, 0.10260814117515012, 0.23655212884645094, 0.16308211918739535, 0.42885105237078963, 0.5982251637784145, 0.6497627572470079, 0.564881510937016, 0.002042741266080862, 0.0432759507823083, 0.11565272118045902, 0.08479883321209203, 0.05563959301752841, 0.17036200199903762, 0.034234629801058236, 0.025665803623562248, 0.06844191320158391, 0.06603688926897773, 0.0557829350118369, 0.14126147464929503, 0.08603542063825795, 0.05755224658724183, 0.11713058938910195, 0.07855898982155443, 0.07017383266041724, 0.1387384613243503, 0.02599391592089146, 0.014983597221861204, 0.046785608682980664, 0.04702940181910081, 0.009371195115648684, 0.13442523013600807, 0.02173728671963739, 0.06710068815107578, 0.006562571003496942, 0.049439099351178455, 0.059041426503999385, 0.16967783236921372, 0.02574087347593375, 0.004147981400407116, 0.04663328135168256, 0.03791970290030016, 0.052162718867765946, 0.16185164643189304, 0.002863880123856718, 0.03432115507573845, 0.012425343270706903, 0.0028716455151347213, 0.02759566178348345, 0.017323938029855275, 0.05280846281851665, 0.07098685954311995, 0.021425629594831866, 0.02462946909459824, 0.055788734032856176, 0.028274395477285403, 0.04611371996439812, 0.006266364786498738, 0.008225152874300293, 0.01659541120737598, 0.05124040129230129, 0.0813063100110882, 0.2369714831566864, 0.19048215620838427, 0.3859470707475317, 0.5618029109246316, 0.7373334693542662, 0.7487959621232543, 0.0016233869558453969, 0.07067598780329724, 0.07274873955720111, 0.04837658035830918, 0.031931119089729836, 0.013552449187200704, 0.034653984111293695, 0.001734233397426694, 0.025537931578325977, 0.02961463641519489, 0.03178777709542135, 0.042652976536943304, 0.08561606632802249, 0.08495228360823077, 0.07422660776584403, 0.042136736967771586, 0.01739687944684101, 0.04517598986188802, 0.026413270231126926, 0.012416439799127738, 0.0038816270597227375, 0.010607148965317979, 0.07819951699160957, 0.04948922105023025, 0.022156641029872855, 0.039700651130086834, 0.03634141061976098, 0.013016846497395616, 0.028529285603258868, 0.01423661881702461, 0.026160227786169218, 0.023252055620581826, 0.0037292997284246307, 0.0014974500465173212, 0.03540799323949231, 0.02206280475434528, 0.055672342942373367, 0.0366657044673815, 0.00900028632412496, 0.02175782357946352, 0.028193072249372727, 0.01095045744743013, 0.043249839840541406, 0.04058751986223719, 0.00420019039640661, 0.019467056722510697, 0.023644739508817843, 0.06398237198123294, 0.23410760303282968, 0.15616100113264583, 0.37352172747682477, 0.5589312654094969, 0.7097378075707828, 0.7314720240933991, 0.004487267079702114, 0.036354832727558795, 0.060323396286494205, 0.045504934843174465, 0.0043354573062463885, 0.0037714888426545693, 0.03179010398743698, 0.03258692167831176, 0.013112588307619074, 0.02674299090006017, 0.004192115311937899, 0.02532903850708803, 0.0884799464518792, 0.050631128532492325, 0.06180126449513712, 0.03926509145263687, 0.010198782336642441, 0.027852051832032744, 0.023549390107270207, 0.02190471527661071, 0.008543716210984167, 0.007735503450183257, 0.05060385520812612, 0.03216528302037498, 0.019292760906016136, 0.07402180620582528, 0.04876675389046788, 0.010145200982260894, 0.000933623819775417, 0.003087319212830663, 0.0232963476623125, 0.011069099455156623, 0.008696043542282273, 0.0013741954686174, 0.007812331456008854, 0.0047388667244900075, 0.09892218278291477, 0.07725322432961869, 0.013200476720531571, 0.041224880301974215, 0.0045483327405548835, 0.05303191453380281, 0.28977994597520307, 0.11949529666526433, 0.3645214411526998, 0.5371734418300335, 0.68154473532141, 0.7205215666459689, 0.05118507586267125, 0.0003108717398227073, 0.051323109962369245, 0.023747111263710943, 0.023857614943126337, 0.014721946290084699, 0.08746244692981035, 0.06925262614569326, 0.004112301983494115, 0.004985167320596649, 0.024000956937434828, 0.014378581059657898, 0.03280760350950583, 0.013965424065110824, 0.05280097817101216, 0.017507267873173346, 0.03839185458601517, 0.016901594384602613, 0.07922173304964358, 0.058570419743992214, 0.017544002535109127, 0.014022320129280263, 0.02241078295875339, 0.02121482557294485, 0.0749651038483895, 0.11068751067320678, 0.05776704021459285, 0.011612622597202625, 0.027259448429597308, 0.014037776660260792, 0.07896869060468586, 0.04773480392253812, 0.017696329866407234, 0.02313201904808092, 0.02038074079336387, 0.006211590722940122, 0.19085776319228825, 0.19674852099488302, 0.3777219178732314, 0.5783983221320076, 0.6860930680619649, 0.667489652112166, 0.04773710692024352, 0.07694235258979598, 0.06452358668290081, 0.06497199156568516, 0.019309282202571453, 0.06775386082388751, 0.011459735853104423, 0.008000598183925432, 0.017312778704025686, 0.04621004762257087, 0.019452624196879945, 0.03865333347414491, 0.1317297862924206, 0.09121864839472951, 0.06600145489154373, 0.05873214817514756, 0.033843521845460287, 0.036130320149200194, 0.019700449733271196, 0.018682804585626475, 0.0043435258145775564, 0.027202560172693957, 0.026959115699308273, 0.031817088960857956, 0.023957078934525266, 0.033434286343588096, 0.044566563494061275, 0.02961225770477159, 0.022711115689042424, 0.0670696911940636, 0.019953492178228904, 0.029518420407080564, 0.004495853145875663, 0.018092861253893297, 0.015832408052808986, 0.05924350525674293, 0.23859487011253178, 0.11980616840508704, 0.3131983311903306, 0.5134263305663225, 0.7054023502645363, 0.7352435129360536, 0.2023174990453927, 0.1887479228109576, 0.3604091391692057, 0.5321882745094367, 0.7055456922588449, 0.706142985586311, 0.32258754948470886, 0.10552987260015351, 0.31172046298168765, 0.5196661739568601, 0.7199365899074253, 0.7036199722613663, 0.21055821292555946, 0.17806571640925656, 0.3820654436878089, 0.5511957619593136, 0.6591339523626567, 0.699306741073024, 0.21481484212681354, 0.23018280733847113, 0.4222884813672927, 0.5487860644272361, 0.7088041837510074, 0.7345593433062297, 0.21081125537051718, 0.16723010058780247, 0.38221777101910703, 0.5603054608781144, 0.701925476114774, 0.726733157368909, 0.036277371067139096, 0.06894175440587055, 0.04721080797887513, 0.018761943943114295, 0.0001433419943084888, 0.029100527349742597, 0.08399267937217708, 0.014276295804933531, 0.0014778682086429157, 0.006239843390537597, 0.01453423964288883, 0.03162354067468731, 0.028036657186972323, 0.058259548004169506, 0.06886711249747837, 0.03776943139299121, 0.046268397901879726, 0.03593677186302955, 0.023780027985718252, 0.11037663893338408, 0.10909015017696208, 0.03535973386091357, 0.003401833486470971, 0.0006841696298239062, 0.027783614742014615, 0.047423932182715414, 0.06901943982877648, 0.04687913031179186, 0.0034768741497624668, 0.008510355567144577, 0.12027005043931618, 0.08321805021080408, 0.04868867618751804, 0.012522100552576697, 0.014390897648580342, 0.0025230133249447145, 0.008240713880166773, 0.010682206401701044, 0.02165630451860324, 0.01900748744987691, 0.046411739896188214, 0.006836244513286953, 0.012497343081420843, 0.041434884527513524, 0.06187934219808696, 0.016597789917799276, 0.0032584914921624823, 0.02841635771991869, 0.008493756325124481, 0.021517822223155132, 0.02180863184990135, 0.02811718636867757, 0.0036202161440709556, 0.02059017178259802, 0.1120293365591494, 0.07253584380910304, 0.07034498070612129, 0.03152958800245361, 0.060802637544768556, 0.004313231188342238, 0.10777270735789533, 0.12465293473831761, 0.11056801838560501, 0.02911989047037597, 0.011132406156417859, 0.030939371044863405, 0.1117762941141917, 0.061700227987648945, 0.0704973080374194, 0.040639286921254264, 0.018011113792651297, 0.023113185107542733, 0.00425662920125407, 0.05211709092921457, 0.04022303767948372, 0.0024096975320776377, 0.0496702313883507, 0.03525260223320564, 0.00025304244495770803, 0.010835615821454089, 0.00015232733129810685, 0.009109698918800656, 0.04279152375211726, 0.02742641629588497, 0.004003586756296362, 0.06295270675066866, 0.040070710348185615, 0.011519396450878294, 0.006878707636233438, 0.00782618593732067]\n"
     ]
    }
   ],
   "source": [
    "# Note: For sample i am taking here only 6(0-5) rows. Actual data (14706) may take long time to execute. \n",
    "\n",
    "rows = len(df.index[:6]) #All sample numbers(number of rows)\n",
    "subs = df_norm.columns # All subjects\n",
    "\n",
    "\n",
    "each_comb = list(itertools.combinations(range(rows), 2)) #All possible combinaion for all rows\n",
    "\n",
    "all_subs= list(itertools.combinations(subs, 2)) # All possible combination for all subjects\n",
    "\n",
    "\n",
    "Intra_data = []\n",
    "Inter_data = []\n",
    "\n",
    "#Intra-distacne: Same person\n",
    "for sub in subs:\n",
    "    for i in range(len(each_comb)):\n",
    "        x1= each_comb[i][0]\n",
    "        y1= each_comb[i][1]\n",
    "        x2 = df_norm[sub][each_comb[i][0]]\n",
    "        y2 = df_norm[sub][each_comb[i][1]]\n",
    "        Intra_dis = ((x1-y1)**2 + (x2-y2)**2) ** 0.5 # Euclidian distance formula\n",
    "        Intra_data.append(Intra_dis)\n",
    "        \n",
    "        \n",
    "# Inter-distacne: Different peron \n",
    "for sub_pair in all_subs: # Pairs of subjets\n",
    "    for i in range(rows): \n",
    "        x1 = i \n",
    "        y1 = i\n",
    "        x2 = df_norm[sub_pair[0]][i]\n",
    "        y2 = df_norm[sub_pair[1]][i]\n",
    "        Inter_dis = ((x1-y1)**2 + (x2-y2)**2) ** 0.5 # Euclidian distance formula\n",
    "        Inter_data.append(Inter_dis)\n",
    "        \n",
    "\n",
    "print(len(Intra_data)) \n",
    "print(Intra_data) \n",
    "print(\"\\n\")\n",
    "print(len(Inter_data))\n",
    "print(Inter_data)\n",
    "\n"
   ]
  },
  {
   "cell_type": "code",
   "execution_count": null,
   "metadata": {},
   "outputs": [],
   "source": []
  },
  {
   "cell_type": "code",
   "execution_count": null,
   "metadata": {},
   "outputs": [],
   "source": []
  }
 ],
 "metadata": {
  "kernelspec": {
   "display_name": "Python 3",
   "language": "python",
   "name": "python3"
  },
  "language_info": {
   "codemirror_mode": {
    "name": "ipython",
    "version": 3
   },
   "file_extension": ".py",
   "mimetype": "text/x-python",
   "name": "python",
   "nbconvert_exporter": "python",
   "pygments_lexer": "ipython3",
   "version": "3.7.2"
  }
 },
 "nbformat": 4,
 "nbformat_minor": 2
}
